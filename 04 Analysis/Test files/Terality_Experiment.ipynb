{
 "cells": [
  {
   "cell_type": "code",
   "execution_count": 1,
   "id": "a595dc4c",
   "metadata": {},
   "outputs": [
    {
     "name": "stdout",
     "output_type": "stream",
     "text": [
      "Collecting terality\n",
      "  Downloading terality-0.14.14-py3-none-any.whl (152 kB)\n",
      "Requirement already satisfied: numpy<2.0,>=1.18 in c:\\users\\dbnewman18\\anaconda3\\lib\\site-packages (from terality) (1.20.3)\n",
      "Collecting boto3>=1.16.28\n",
      "  Downloading boto3-1.21.35-py3-none-any.whl (132 kB)\n",
      "Collecting sentry-sdk<2.0.0,>=1.3.0\n",
      "  Downloading sentry_sdk-1.5.8-py2.py3-none-any.whl (144 kB)\n",
      "Requirement already satisfied: tqdm<5.0.0,>=4.45.0 in c:\\users\\dbnewman18\\anaconda3\\lib\\site-packages (from terality) (4.62.3)\n",
      "Collecting pyarrow<7.0.0,>=6.0.0\n",
      "  Downloading pyarrow-6.0.1-cp39-cp39-win_amd64.whl (15.5 MB)\n",
      "Collecting pydantic<2.0.0,>=1.7.3\n",
      "  Downloading pydantic-1.9.0-cp39-cp39-win_amd64.whl (2.1 MB)\n",
      "Requirement already satisfied: pandas<2.0.0,>=1.0.0 in c:\\users\\dbnewman18\\anaconda3\\lib\\site-packages (from terality) (1.3.4)\n",
      "Collecting protobuf<4.0.0,>=3.9.1\n",
      "  Downloading protobuf-3.20.0-cp39-cp39-win_amd64.whl (904 kB)\n",
      "Requirement already satisfied: click<9,>=3.2 in c:\\users\\dbnewman18\\anaconda3\\lib\\site-packages (from terality) (8.0.3)\n",
      "Requirement already satisfied: requests<3.0.0,>=2.23.0 in c:\\users\\dbnewman18\\anaconda3\\lib\\site-packages (from terality) (2.26.0)\n",
      "Collecting jmespath<2.0.0,>=0.7.1\n",
      "  Downloading jmespath-1.0.0-py3-none-any.whl (23 kB)\n",
      "Collecting s3transfer<0.6.0,>=0.5.0\n",
      "  Downloading s3transfer-0.5.2-py3-none-any.whl (79 kB)\n",
      "Collecting botocore<1.25.0,>=1.24.35\n",
      "  Downloading botocore-1.24.35-py3-none-any.whl (8.7 MB)\n",
      "Requirement already satisfied: python-dateutil<3.0.0,>=2.1 in c:\\users\\dbnewman18\\anaconda3\\lib\\site-packages (from botocore<1.25.0,>=1.24.35->boto3>=1.16.28->terality) (2.8.2)\n",
      "Requirement already satisfied: urllib3<1.27,>=1.25.4 in c:\\users\\dbnewman18\\anaconda3\\lib\\site-packages (from botocore<1.25.0,>=1.24.35->boto3>=1.16.28->terality) (1.26.7)\n",
      "Requirement already satisfied: colorama in c:\\users\\dbnewman18\\anaconda3\\lib\\site-packages (from click<9,>=3.2->terality) (0.4.4)\n",
      "Requirement already satisfied: pytz>=2017.3 in c:\\users\\dbnewman18\\anaconda3\\lib\\site-packages (from pandas<2.0.0,>=1.0.0->terality) (2021.3)\n",
      "Requirement already satisfied: typing-extensions>=3.7.4.3 in c:\\users\\dbnewman18\\anaconda3\\lib\\site-packages (from pydantic<2.0.0,>=1.7.3->terality) (3.10.0.2)\n",
      "Requirement already satisfied: six>=1.5 in c:\\users\\dbnewman18\\anaconda3\\lib\\site-packages (from python-dateutil<3.0.0,>=2.1->botocore<1.25.0,>=1.24.35->boto3>=1.16.28->terality) (1.16.0)\n",
      "Requirement already satisfied: idna<4,>=2.5 in c:\\users\\dbnewman18\\anaconda3\\lib\\site-packages (from requests<3.0.0,>=2.23.0->terality) (3.2)\n",
      "Requirement already satisfied: charset-normalizer~=2.0.0 in c:\\users\\dbnewman18\\anaconda3\\lib\\site-packages (from requests<3.0.0,>=2.23.0->terality) (2.0.4)\n",
      "Requirement already satisfied: certifi>=2017.4.17 in c:\\users\\dbnewman18\\anaconda3\\lib\\site-packages (from requests<3.0.0,>=2.23.0->terality) (2021.10.8)\n",
      "Installing collected packages: jmespath, botocore, s3transfer, sentry-sdk, pydantic, pyarrow, protobuf, boto3, terality\n",
      "Successfully installed boto3-1.21.35 botocore-1.24.35 jmespath-1.0.0 protobuf-3.20.0 pyarrow-6.0.1 pydantic-1.9.0 s3transfer-0.5.2 sentry-sdk-1.5.8 terality-0.14.14\n"
     ]
    }
   ],
   "source": [
    "! pip install --upgrade terality"
   ]
  },
  {
   "cell_type": "code",
   "execution_count": 2,
   "id": "25e98ab7",
   "metadata": {},
   "outputs": [
    {
     "name": "stderr",
     "output_type": "stream",
     "text": [
      "INFO:terality:Terality account successfully configured on this system.\n"
     ]
    }
   ],
   "source": [
    "import terality as te\n",
    "te.configure(\n",
    "    email=\"dbnewman18@gmail.com\",\n",
    "    api_key=\"tla_Rpmx3tMiKgj07XY4pGuRNM5XA5IzxTbHEXmjqNHlDPoJFXmJUCE5OkmTKxvW13pc2d\"\n",
    ")"
   ]
  },
  {
   "cell_type": "code",
   "execution_count": null,
   "id": "d440f9c1",
   "metadata": {},
   "outputs": [],
   "source": []
  }
 ],
 "metadata": {
  "kernelspec": {
   "display_name": "Python 3 (ipykernel)",
   "language": "python",
   "name": "python3"
  },
  "language_info": {
   "codemirror_mode": {
    "name": "ipython",
    "version": 3
   },
   "file_extension": ".py",
   "mimetype": "text/x-python",
   "name": "python",
   "nbconvert_exporter": "python",
   "pygments_lexer": "ipython3",
   "version": "3.9.7"
  }
 },
 "nbformat": 4,
 "nbformat_minor": 5
}

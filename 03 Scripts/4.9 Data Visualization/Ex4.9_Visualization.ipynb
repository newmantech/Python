{
 "cells": [
  {
   "cell_type": "code",
   "execution_count": 1,
   "id": "c378296e",
   "metadata": {},
   "outputs": [
    {
     "name": "stderr",
     "output_type": "stream",
     "text": [
      "WARNING:matplotlib.font_manager:Matplotlib is building the font cache; this may take a moment.\n"
     ]
    }
   ],
   "source": [
    "import terality as pd\n",
    "import numpy as np\n",
    "import os\n",
    "import matplotlib.pyplot as plt\n",
    "import seaborn as sns\n",
    "import scipy"
   ]
  },
  {
   "cell_type": "code",
   "execution_count": 2,
   "id": "7d012ffd",
   "metadata": {},
   "outputs": [],
   "source": [
    "path = r'C:\\Users\\dbnewman18\\Instacart_Basket_Analysis_31_03-2022'"
   ]
  },
  {
   "cell_type": "code",
   "execution_count": 3,
   "id": "0cdc2d83",
   "metadata": {},
   "outputs": [
    {
     "name": "stderr",
     "output_type": "stream",
     "text": [
      "C:\\Users\\dbnewman18\\Instacart_Basket_Analysis_31_03-2022\\02 Data\\Prepared Data\\\n"
     ]
    }
   ],
   "source": [
    "ords_prods_merge = pd.read_parquet(os.path.join(path, '02 Data', 'Prepared Data', 'orders_products_flagged/'))"
   ]
  },
  {
   "cell_type": "code",
   "execution_count": 4,
   "id": "6c828252",
   "metadata": {},
   "outputs": [
    {
     "ename": "AttributeError",
     "evalue": "'functools.partial' object has no attribute 'bar'",
     "output_type": "error",
     "traceback": [
      "\u001b[1;31m---------------------------------------------------------------------------\u001b[0m",
      "\u001b[1;31mAttributeError\u001b[0m                            Traceback (most recent call last)",
      "\u001b[1;32mC:\\Users\\DBNEWM~1\\AppData\\Local\\Temp/ipykernel_7808/3314599859.py\u001b[0m in \u001b[0;36m<module>\u001b[1;34m\u001b[0m\n\u001b[1;32m----> 1\u001b[1;33m \u001b[0mords_prods_merge\u001b[0m\u001b[1;33m[\u001b[0m\u001b[1;34m'orders_day_of_week'\u001b[0m\u001b[1;33m]\u001b[0m\u001b[1;33m.\u001b[0m\u001b[0mvalue_counts\u001b[0m\u001b[1;33m(\u001b[0m\u001b[1;33m)\u001b[0m\u001b[1;33m.\u001b[0m\u001b[0mplot\u001b[0m\u001b[1;33m.\u001b[0m\u001b[0mbar\u001b[0m\u001b[1;33m(\u001b[0m\u001b[1;33m)\u001b[0m\u001b[1;33m\u001b[0m\u001b[1;33m\u001b[0m\u001b[0m\n\u001b[0m",
      "\u001b[1;31mAttributeError\u001b[0m: 'functools.partial' object has no attribute 'bar'"
     ]
    }
   ],
   "source": [
    "ords_prods_merge['orders_day_of_week'].value_counts().plot.bar()"
   ]
  },
  {
   "cell_type": "code",
   "execution_count": 5,
   "id": "de85df5b",
   "metadata": {},
   "outputs": [],
   "source": [
    "import pandas as rp"
   ]
  },
  {
   "cell_type": "code",
   "execution_count": 6,
   "id": "5b278fa8",
   "metadata": {},
   "outputs": [
    {
     "name": "stderr",
     "output_type": "stream",
     "text": [
      "INFO:terality:The result of te.series.value_counts was retrieved from cache [docs: https://docs.terality.com/getting-terality/user-guide/caching].\n"
     ]
    },
    {
     "ename": "AttributeError",
     "evalue": "'functools.partial' object has no attribute 'bar'",
     "output_type": "error",
     "traceback": [
      "\u001b[1;31m---------------------------------------------------------------------------\u001b[0m",
      "\u001b[1;31mAttributeError\u001b[0m                            Traceback (most recent call last)",
      "\u001b[1;32mC:\\Users\\DBNEWM~1\\AppData\\Local\\Temp/ipykernel_7808/3314599859.py\u001b[0m in \u001b[0;36m<module>\u001b[1;34m\u001b[0m\n\u001b[1;32m----> 1\u001b[1;33m \u001b[0mords_prods_merge\u001b[0m\u001b[1;33m[\u001b[0m\u001b[1;34m'orders_day_of_week'\u001b[0m\u001b[1;33m]\u001b[0m\u001b[1;33m.\u001b[0m\u001b[0mvalue_counts\u001b[0m\u001b[1;33m(\u001b[0m\u001b[1;33m)\u001b[0m\u001b[1;33m.\u001b[0m\u001b[0mplot\u001b[0m\u001b[1;33m.\u001b[0m\u001b[0mbar\u001b[0m\u001b[1;33m(\u001b[0m\u001b[1;33m)\u001b[0m\u001b[1;33m\u001b[0m\u001b[1;33m\u001b[0m\u001b[0m\n\u001b[0m",
      "\u001b[1;31mAttributeError\u001b[0m: 'functools.partial' object has no attribute 'bar'"
     ]
    }
   ],
   "source": [
    "ords_prods_merge['orders_day_of_week'].value_counts().plot.bar()"
   ]
  },
  {
   "cell_type": "code",
   "execution_count": 8,
   "id": "795a763f",
   "metadata": {},
   "outputs": [
    {
     "name": "stdout",
     "output_type": "stream",
     "text": [
      "<class 'terality.DataFrame'>\n",
      "Index: 32429932 entries, 103282 to 9487342\n",
      "Data columns (total 23 columns):\n",
      " #   Column                  Dtype\n",
      "---  ------                  -----\n",
      " 0   order_id                float64\n",
      " 1   user_id                 float64\n",
      " 2   order_number            float64\n",
      " 3   orders_day_of_week      float64\n",
      " 4   order_hour_of_day       float64\n",
      " 5   days_since_prior_order  float64\n",
      " 6   product_id              int64\n",
      " 7   add_to_cart_order       float64\n",
      " 8   reordered               float64\n",
      " 9   product_name            object\n",
      "10   aisle_id                float64\n",
      "11   department_id           float64\n",
      "12   prices                  float64\n",
      "13   _merge                  category\n",
      "14   price_range             object\n",
      "15   busiest_slowest         object\n",
      "16   busy_hours              object\n",
      "17   max_order               float64\n",
      "18   loyalty_flag            object\n",
      "19   mean_spending           float64\n",
      "20   Spender Type            object\n",
      "21   median_days_btw_orders  float64\n",
      "22   customer_frequency      object\n",
      "dtypes: float64(14), int64(1), object(7), category(1)\n",
      "memory usage: 19.1 GB (run with deep=True)\n"
     ]
    }
   ],
   "source": [
    "ords_prods_merge.info()"
   ]
  },
  {
   "cell_type": "code",
   "execution_count": 11,
   "id": "f2dbd26b",
   "metadata": {},
   "outputs": [
    {
     "data": {
      "text/plain": [
       "functools.partial(<bound method Struct._call_method of 103282     2.0\n",
       "103283     3.0\n",
       "103284     3.0\n",
       "103285     4.0\n",
       "103286     4.0\n",
       "          ... \n",
       "8939009    1.0\n",
       "8939010    4.0\n",
       "8939011    4.0\n",
       "9487341    4.0\n",
       "9487342    3.0\n",
       "Name: orders_day_of_week, Length: 32429932, dtype: float64>, None, 'describe')"
      ]
     },
     "execution_count": 11,
     "metadata": {},
     "output_type": "execute_result"
    }
   ],
   "source": [
    "ords_prods_merge['orders_day_of_week'].describe"
   ]
  },
  {
   "cell_type": "code",
   "execution_count": null,
   "id": "6eea08f9",
   "metadata": {},
   "outputs": [],
   "source": []
  }
 ],
 "metadata": {
  "kernelspec": {
   "display_name": "Python 3 (ipykernel)",
   "language": "python",
   "name": "python3"
  },
  "language_info": {
   "codemirror_mode": {
    "name": "ipython",
    "version": 3
   },
   "file_extension": ".py",
   "mimetype": "text/x-python",
   "name": "python",
   "nbconvert_exporter": "python",
   "pygments_lexer": "ipython3",
   "version": "3.9.7"
  }
 },
 "nbformat": 4,
 "nbformat_minor": 5
}

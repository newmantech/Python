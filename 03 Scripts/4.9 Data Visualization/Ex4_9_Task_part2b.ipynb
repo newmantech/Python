{
  "cells": [
    {
      "cell_type": "code",
      "execution_count": 1,
      "metadata": {
        "id": "C1EwtFHqPOjF"
      },
      "outputs": [],
      "source": [
        "import pandas as pd\n",
        "import numpy as np\n",
        "import os\n",
        "import matplotlib.pyplot as plt\n",
        "import seaborn as sns\n",
        "import scipy"
      ]
    },
    {
      "cell_type": "code",
      "execution_count": 2,
      "metadata": {
        "colab": {
          "base_uri": "https://localhost:8080/"
        },
        "id": "aWMnDwxGPacv",
        "outputId": "aeea96c7-36af-46ad-cbf3-283b38401eb6"
      },
      "outputs": [
        {
          "output_type": "stream",
          "name": "stdout",
          "text": [
            "Collecting fastparquet\n",
            "  Downloading fastparquet-0.8.1-cp37-cp37m-manylinux_2_17_x86_64.manylinux2014_x86_64.whl (1.5 MB)\n",
            "\u001b[K     |████████████████████████████████| 1.5 MB 5.2 MB/s \n",
            "\u001b[?25hCollecting fsspec\n",
            "  Downloading fsspec-2022.3.0-py3-none-any.whl (136 kB)\n",
            "\u001b[K     |████████████████████████████████| 136 kB 45.9 MB/s \n",
            "\u001b[?25hRequirement already satisfied: numpy>=1.18 in /usr/local/lib/python3.7/dist-packages (from fastparquet) (1.21.5)\n",
            "Requirement already satisfied: pandas>=1.1.0 in /usr/local/lib/python3.7/dist-packages (from fastparquet) (1.3.5)\n",
            "Collecting cramjam>=2.3.0\n",
            "  Downloading cramjam-2.5.0-cp37-cp37m-manylinux_2_5_x86_64.manylinux1_x86_64.whl (1.6 MB)\n",
            "\u001b[K     |████████████████████████████████| 1.6 MB 29.6 MB/s \n",
            "\u001b[?25hRequirement already satisfied: python-dateutil>=2.7.3 in /usr/local/lib/python3.7/dist-packages (from pandas>=1.1.0->fastparquet) (2.8.2)\n",
            "Requirement already satisfied: pytz>=2017.3 in /usr/local/lib/python3.7/dist-packages (from pandas>=1.1.0->fastparquet) (2018.9)\n",
            "Requirement already satisfied: six>=1.5 in /usr/local/lib/python3.7/dist-packages (from python-dateutil>=2.7.3->pandas>=1.1.0->fastparquet) (1.15.0)\n",
            "Installing collected packages: fsspec, cramjam, fastparquet\n",
            "Successfully installed cramjam-2.5.0 fastparquet-0.8.1 fsspec-2022.3.0\n"
          ]
        }
      ],
      "source": [
        "pip install fastparquet"
      ]
    },
    {
      "cell_type": "code",
      "execution_count": null,
      "metadata": {
        "colab": {
          "base_uri": "https://localhost:8080/"
        },
        "id": "1lkPjJKPPesd",
        "outputId": "01b15f46-19f1-4616-ca53-b2cd54fc362c"
      },
      "outputs": [
        {
          "name": "stdout",
          "output_type": "stream",
          "text": [
            "Archive:  /content/ords_prods_cust.zip\n",
            "  inflating: ords_prods_cust/ords_prods_cust1.parquet  \n",
            "  inflating: ords_prods_cust/ords_prods_cust10.parquet  \n",
            "  inflating: ords_prods_cust/ords_prods_cust11.parquet  \n",
            "  inflating: ords_prods_cust/ords_prods_cust12.parquet  \n",
            "  inflating: ords_prods_cust/ords_prods_cust13.parquet  \n",
            "  inflating: ords_prods_cust/ords_prods_cust14.parquet  \n",
            "  inflating: ords_prods_cust/ords_prods_cust15.parquet  \n",
            "  inflating: ords_prods_cust/ords_prods_cust16.parquet  \n",
            "  inflating: ords_prods_cust/ords_prods_cust17.parquet  \n",
            "  inflating: ords_prods_cust/ords_prods_cust18.parquet  \n",
            "  inflating: ords_prods_cust/ords_prods_cust19.parquet  \n",
            "  inflating: ords_prods_cust/ords_prods_cust2.parquet  \n",
            "  inflating: ords_prods_cust/ords_prods_cust20.parquet  \n",
            "  inflating: ords_prods_cust/ords_prods_cust21.parquet  \n",
            "  inflating: ords_prods_cust/ords_prods_cust22.parquet  \n",
            "  inflating: ords_prods_cust/ords_prods_cust23.parquet  \n",
            "  inflating: ords_prods_cust/ords_prods_cust24.parquet  \n",
            "  inflating: ords_prods_cust/ords_prods_cust25.parquet  \n",
            "  inflating: ords_prods_cust/ords_prods_cust26.parquet  \n",
            "  inflating: ords_prods_cust/ords_prods_cust27.parquet  \n",
            "  inflating: ords_prods_cust/ords_prods_cust28.parquet  \n",
            "  inflating: ords_prods_cust/ords_prods_cust29.parquet  \n",
            "  inflating: ords_prods_cust/ords_prods_cust3.parquet  \n",
            "  inflating: ords_prods_cust/ords_prods_cust30.parquet  \n",
            "  inflating: ords_prods_cust/ords_prods_cust31.parquet  \n",
            "  inflating: ords_prods_cust/ords_prods_cust32.parquet  \n",
            "  inflating: ords_prods_cust/ords_prods_cust33.parquet  \n",
            "  inflating: ords_prods_cust/ords_prods_cust4.parquet  \n",
            "  inflating: ords_prods_cust/ords_prods_cust5.parquet  \n",
            "  inflating: ords_prods_cust/ords_prods_cust6.parquet  \n",
            "  inflating: ords_prods_cust/ords_prods_cust7.parquet  \n",
            "  inflating: ords_prods_cust/ords_prods_cust8.parquet  \n",
            "  inflating: ords_prods_cust/ords_prods_cust9.parquet  \n"
          ]
        }
      ],
      "source": [
        "!unzip /content/ords_prods_cust.zip"
      ]
    },
    {
      "cell_type": "code",
      "execution_count": null,
      "metadata": {
        "id": "E-L6gD7PWsGw"
      },
      "outputs": [],
      "source": [
        "df_insta = pd.read_parquet('/content/ords_prods_cust/', engine='fastparquet')"
      ]
    },
    {
      "cell_type": "code",
      "execution_count": null,
      "metadata": {
        "colab": {
          "base_uri": "https://localhost:8080/",
          "height": 276
        },
        "id": "LPBuc8odXhe6",
        "outputId": "5305f1c3-7f89-4d6c-8f30-8f4bf82ed5be"
      },
      "outputs": [
        {
          "data": {
            "image/png": "[encoded data removed]",
            "text/plain": [
              "<Figure size 432x288 with 1 Axes>"
            ]
          },
          "metadata": {
            "needs_background": "light"
          },
          "output_type": "display_data"
        }
      ],
      "source": [
        "hist_order_time=df_insta['order_hour_of_day'].plot.hist(bins = 24)"
      ]
    },
    {
      "cell_type": "markdown",
      "metadata": {
        "id": "LS_tYFq9aAGx"
      },
      "source": [
        "This histogram demonstrates that most orders happen during typical business hours (9am to 5 or 6pm)."
      ]
    },
    {
      "cell_type": "code",
      "execution_count": null,
      "metadata": {
        "colab": {
          "base_uri": "https://localhost:8080/",
          "height": 300
        },
        "id": "BUi4X6bIahuA",
        "outputId": "5774830e-56ea-4f16-a37a-b3807fc3f4ef"
      },
      "outputs": [
        {
          "data": {
            "text/html": [
              "\n",
              "  <div id=\"df-c78fe6dd-3b5e-4d90-8200-c78463901518\">\n",
              "    <div class=\"colab-df-container\">\n",
              "      <div>\n",
              "<style scoped>\n",
              "    .dataframe tbody tr th:only-of-type {\n",
              "        vertical-align: middle;\n",
              "    }\n",
              "\n",
              "    .dataframe tbody tr th {\n",
              "        vertical-align: top;\n",
              "    }\n",
              "\n",
              "    .dataframe thead th {\n",
              "        text-align: right;\n",
              "    }\n",
              "</style>\n",
              "<table border=\"1\" class=\"dataframe\">\n",
              "  <thead>\n",
              "    <tr style=\"text-align: right;\">\n",
              "      <th></th>\n",
              "      <th>order_id</th>\n",
              "      <th>user_id</th>\n",
              "      <th>order_number</th>\n",
              "      <th>orders_day_of_week</th>\n",
              "      <th>order_hour_of_day</th>\n",
              "      <th>days_since_prior_order</th>\n",
              "      <th>product_id</th>\n",
              "      <th>add_to_cart_order</th>\n",
              "      <th>reordered</th>\n",
              "      <th>product_name</th>\n",
              "      <th>...</th>\n",
              "      <th>first_name</th>\n",
              "      <th>surname</th>\n",
              "      <th>gender</th>\n",
              "      <th>state</th>\n",
              "      <th>age</th>\n",
              "      <th>date_joined</th>\n",
              "      <th>n_dependants</th>\n",
              "      <th>family_status</th>\n",
              "      <th>income</th>\n",
              "      <th>_merge</th>\n",
              "    </tr>\n",
              "  </thead>\n",
              "  <tbody>\n",
              "    <tr>\n",
              "      <th>0</th>\n",
              "      <td>2539329.0</td>\n",
              "      <td>1.0</td>\n",
              "      <td>1.0</td>\n",
              "      <td>2.0</td>\n",
              "      <td>8.0</td>\n",
              "      <td>0.0</td>\n",
              "      <td>196</td>\n",
              "      <td>1.0</td>\n",
              "      <td>0.0</td>\n",
              "      <td>Soda</td>\n",
              "      <td>...</td>\n",
              "      <td>Linda</td>\n",
              "      <td>Nguyen</td>\n",
              "      <td>Female</td>\n",
              "      <td>Alabama</td>\n",
              "      <td>31</td>\n",
              "      <td>2/17/2019</td>\n",
              "      <td>3</td>\n",
              "      <td>married</td>\n",
              "      <td>40423</td>\n",
              "      <td>both</td>\n",
              "    </tr>\n",
              "    <tr>\n",
              "      <th>1</th>\n",
              "      <td>2398795.0</td>\n",
              "      <td>1.0</td>\n",
              "      <td>2.0</td>\n",
              "      <td>3.0</td>\n",
              "      <td>7.0</td>\n",
              "      <td>15.0</td>\n",
              "      <td>196</td>\n",
              "      <td>1.0</td>\n",
              "      <td>1.0</td>\n",
              "      <td>Soda</td>\n",
              "      <td>...</td>\n",
              "      <td>Linda</td>\n",
              "      <td>Nguyen</td>\n",
              "      <td>Female</td>\n",
              "      <td>Alabama</td>\n",
              "      <td>31</td>\n",
              "      <td>2/17/2019</td>\n",
              "      <td>3</td>\n",
              "      <td>married</td>\n",
              "      <td>40423</td>\n",
              "      <td>both</td>\n",
              "    </tr>\n",
              "    <tr>\n",
              "      <th>2</th>\n",
              "      <td>473747.0</td>\n",
              "      <td>1.0</td>\n",
              "      <td>3.0</td>\n",
              "      <td>3.0</td>\n",
              "      <td>12.0</td>\n",
              "      <td>21.0</td>\n",
              "      <td>196</td>\n",
              "      <td>1.0</td>\n",
              "      <td>1.0</td>\n",
              "      <td>Soda</td>\n",
              "      <td>...</td>\n",
              "      <td>Linda</td>\n",
              "      <td>Nguyen</td>\n",
              "      <td>Female</td>\n",
              "      <td>Alabama</td>\n",
              "      <td>31</td>\n",
              "      <td>2/17/2019</td>\n",
              "      <td>3</td>\n",
              "      <td>married</td>\n",
              "      <td>40423</td>\n",
              "      <td>both</td>\n",
              "    </tr>\n",
              "    <tr>\n",
              "      <th>3</th>\n",
              "      <td>2254736.0</td>\n",
              "      <td>1.0</td>\n",
              "      <td>4.0</td>\n",
              "      <td>4.0</td>\n",
              "      <td>7.0</td>\n",
              "      <td>29.0</td>\n",
              "      <td>196</td>\n",
              "      <td>1.0</td>\n",
              "      <td>1.0</td>\n",
              "      <td>Soda</td>\n",
              "      <td>...</td>\n",
              "      <td>Linda</td>\n",
              "      <td>Nguyen</td>\n",
              "      <td>Female</td>\n",
              "      <td>Alabama</td>\n",
              "      <td>31</td>\n",
              "      <td>2/17/2019</td>\n",
              "      <td>3</td>\n",
              "      <td>married</td>\n",
              "      <td>40423</td>\n",
              "      <td>both</td>\n",
              "    </tr>\n",
              "    <tr>\n",
              "      <th>4</th>\n",
              "      <td>431534.0</td>\n",
              "      <td>1.0</td>\n",
              "      <td>5.0</td>\n",
              "      <td>4.0</td>\n",
              "      <td>15.0</td>\n",
              "      <td>28.0</td>\n",
              "      <td>196</td>\n",
              "      <td>1.0</td>\n",
              "      <td>1.0</td>\n",
              "      <td>Soda</td>\n",
              "      <td>...</td>\n",
              "      <td>Linda</td>\n",
              "      <td>Nguyen</td>\n",
              "      <td>Female</td>\n",
              "      <td>Alabama</td>\n",
              "      <td>31</td>\n",
              "      <td>2/17/2019</td>\n",
              "      <td>3</td>\n",
              "      <td>married</td>\n",
              "      <td>40423</td>\n",
              "      <td>both</td>\n",
              "    </tr>\n",
              "  </tbody>\n",
              "</table>\n",
              "<p>5 rows × 33 columns</p>\n",
              "</div>\n",
              "      <button class=\"colab-df-convert\" onclick=\"convertToInteractive('df-c78fe6dd-3b5e-4d90-8200-c78463901518')\"\n",
              "              title=\"Convert this dataframe to an interactive table.\"\n",
              "              style=\"display:none;\">\n",
              "        \n",
              "  <svg xmlns=\"http://www.w3.org/2000/svg\" height=\"24px\"viewBox=\"0 0 24 24\"\n",
              "       width=\"24px\">\n",
              "    <path d=\"M0 0h24v24H0V0z\" fill=\"none\"/>\n",
              "    <path d=\"M18.56 5.44l.94 2.06.94-2.06 2.06-.94-2.06-.94-.94-2.06-.94 2.06-2.06.94zm-11 1L8.5 8.5l.94-2.06 2.06-.94-2.06-.94L8.5 2.5l-.94 2.06-2.06.94zm10 10l.94 2.06.94-2.06 2.06-.94-2.06-.94-.94-2.06-.94 2.06-2.06.94z\"/><path d=\"M17.41 7.96l-1.37-1.37c-.4-.4-.92-.59-1.43-.59-.52 0-1.04.2-1.43.59L10.3 9.45l-7.72 7.72c-.78.78-.78 2.05 0 2.83L4 21.41c.39.39.9.59 1.41.59.51 0 1.02-.2 1.41-.59l7.78-7.78 2.81-2.81c.8-.78.8-2.07 0-2.86zM5.41 20L4 18.59l7.72-7.72 1.47 1.35L5.41 20z\"/>\n",
              "  </svg>\n",
              "      </button>\n",
              "      \n",
              "  <style>\n",
              "    .colab-df-container {\n",
              "      display:flex;\n",
              "      flex-wrap:wrap;\n",
              "      gap: 12px;\n",
              "    }\n",
              "\n",
              "    .colab-df-convert {\n",
              "      background-color: #E8F0FE;\n",
              "      border: none;\n",
              "      border-radius: 50%;\n",
              "      cursor: pointer;\n",
              "      display: none;\n",
              "      fill: #1967D2;\n",
              "      height: 32px;\n",
              "      padding: 0 0 0 0;\n",
              "      width: 32px;\n",
              "    }\n",
              "\n",
              "    .colab-df-convert:hover {\n",
              "      background-color: #E2EBFA;\n",
              "      box-shadow: 0px 1px 2px rgba(60, 64, 67, 0.3), 0px 1px 3px 1px rgba(60, 64, 67, 0.15);\n",
              "      fill: #174EA6;\n",
              "    }\n",
              "\n",
              "    [theme=dark] .colab-df-convert {\n",
              "      background-color: #3B4455;\n",
              "      fill: #D2E3FC;\n",
              "    }\n",
              "\n",
              "    [theme=dark] .colab-df-convert:hover {\n",
              "      background-color: #434B5C;\n",
              "      box-shadow: 0px 1px 3px 1px rgba(0, 0, 0, 0.15);\n",
              "      filter: drop-shadow(0px 1px 2px rgba(0, 0, 0, 0.3));\n",
              "      fill: #FFFFFF;\n",
              "    }\n",
              "  </style>\n",
              "\n",
              "      <script>\n",
              "        const buttonEl =\n",
              "          document.querySelector('#df-c78fe6dd-3b5e-4d90-8200-c78463901518 button.colab-df-convert');\n",
              "        buttonEl.style.display =\n",
              "          google.colab.kernel.accessAllowed ? 'block' : 'none';\n",
              "\n",
              "        async function convertToInteractive(key) {\n",
              "          const element = document.querySelector('#df-c78fe6dd-3b5e-4d90-8200-c78463901518');\n",
              "          const dataTable =\n",
              "            await google.colab.kernel.invokeFunction('convertToInteractive',\n",
              "                                                     [key], {});\n",
              "          if (!dataTable) return;\n",
              "\n",
              "          const docLinkHtml = 'Like what you see? Visit the ' +\n",
              "            '<a target=\"_blank\" href=https://colab.research.google.com/notebooks/data_table.ipynb>data table notebook</a>'\n",
              "            + ' to learn more about interactive tables.';\n",
              "          element.innerHTML = '';\n",
              "          dataTable['output_type'] = 'display_data';\n",
              "          await google.colab.output.renderOutput(dataTable, element);\n",
              "          const docLink = document.createElement('div');\n",
              "          docLink.innerHTML = docLinkHtml;\n",
              "          element.appendChild(docLink);\n",
              "        }\n",
              "      </script>\n",
              "    </div>\n",
              "  </div>\n",
              "  "
            ],
            "text/plain": [
              "    order_id  user_id  order_number  orders_day_of_week  order_hour_of_day  \\\n",
              "0  2539329.0      1.0           1.0                 2.0                8.0   \n",
              "1  2398795.0      1.0           2.0                 3.0                7.0   \n",
              "2   473747.0      1.0           3.0                 3.0               12.0   \n",
              "3  2254736.0      1.0           4.0                 4.0                7.0   \n",
              "4   431534.0      1.0           5.0                 4.0               15.0   \n",
              "\n",
              "   days_since_prior_order  product_id  add_to_cart_order  reordered  \\\n",
              "0                     0.0         196                1.0        0.0   \n",
              "1                    15.0         196                1.0        1.0   \n",
              "2                    21.0         196                1.0        1.0   \n",
              "3                    29.0         196                1.0        1.0   \n",
              "4                    28.0         196                1.0        1.0   \n",
              "\n",
              "  product_name  ...  first_name  surname  gender    state age date_joined  \\\n",
              "0         Soda  ...       Linda   Nguyen  Female  Alabama  31   2/17/2019   \n",
              "1         Soda  ...       Linda   Nguyen  Female  Alabama  31   2/17/2019   \n",
              "2         Soda  ...       Linda   Nguyen  Female  Alabama  31   2/17/2019   \n",
              "3         Soda  ...       Linda   Nguyen  Female  Alabama  31   2/17/2019   \n",
              "4         Soda  ...       Linda   Nguyen  Female  Alabama  31   2/17/2019   \n",
              "\n",
              "  n_dependants  family_status income  _merge  \n",
              "0            3        married  40423    both  \n",
              "1            3        married  40423    both  \n",
              "2            3        married  40423    both  \n",
              "3            3        married  40423    both  \n",
              "4            3        married  40423    both  \n",
              "\n",
              "[5 rows x 33 columns]"
            ]
          },
          "execution_count": 6,
          "metadata": {},
          "output_type": "execute_result"
        }
      ],
      "source": [
        "df_insta.head()"
      ]
    },
    {
      "cell_type": "code",
      "execution_count": null,
      "metadata": {
        "colab": {
          "base_uri": "https://localhost:8080/",
          "height": 355
        },
        "id": "DeffYjX9dFKQ",
        "outputId": "1208f7d9-a0b5-4139-93ff-b4ef442fd904"
      },
      "outputs": [
        {
          "data": {
            "image/png": "[encoded data removed]",
            "text/plain": [
              "<Figure size 432x288 with 1 Axes>"
            ]
          },
          "metadata": {
            "needs_background": "light"
          },
          "output_type": "display_data"
        }
      ],
      "source": [
        "loyalty_bar_chart=df_insta['loyalty_flag'].value_counts().plot.bar()"
      ]
    },
    {
      "cell_type": "code",
      "execution_count": null,
      "metadata": {
        "id": "f4DKI5XXeQ-C"
      },
      "outputs": [],
      "source": [
        "hist_order_time.figure.savefig('/content/order_time_histogram.png')"
      ]
    },
    {
      "cell_type": "code",
      "execution_count": null,
      "metadata": {
        "id": "ky_m0AA-kwTa"
      },
      "outputs": [],
      "source": [
        "loyalty_bar_chart.figure.savefig('/content/loyalty_bar_chart.png')"
      ]
    },
    {
      "cell_type": "code",
      "execution_count": null,
      "metadata": {
        "id": "HJ_SH1Jhk8g2"
      },
      "outputs": [],
      "source": [
        "import terality as pd\n",
        "import numpy as np\n",
        "import os"
      ]
    },
    {
      "cell_type": "code",
      "execution_count": null,
      "metadata": {
        "id": "SkG45jrm6S9X"
      },
      "outputs": [],
      "source": [
        "path = r'C:\\Users\\dbnewman18\\Instacart_Basket_Analysis_31_03-2022'"
      ]
    },
    {
      "cell_type": "code",
      "execution_count": null,
      "metadata": {
        "id": "LyVyaGh06S9X",
        "outputId": "05025b65-2948-4680-cc9e-6bfc1da783c9"
      },
      "outputs": [
        {
          "name": "stderr",
          "output_type": "stream",
          "text": [
            "C:\\Users\\dbnewman18\\Instacart_Basket_Analysis_31_03-2022\\02 Data\\Prepared Data\\\n"
          ]
        }
      ],
      "source": [
        "df_insta= pd.read_parquet(os.path.join(path, '02 Data', 'Prepared Data', 'ords_prods_cust/'))"
      ]
    },
    {
      "cell_type": "code",
      "execution_count": null,
      "metadata": {
        "id": "mB-AfPCj6S9Y"
      },
      "outputs": [],
      "source": [
        "# Create a list holding True/False values to the test np.random.rand()<=0.7\n",
        "np.random.seed(4)\n",
        "dev = np.random.rand(len(df_insta)) <= 0.7"
      ]
    },
    {
      "cell_type": "code",
      "execution_count": null,
      "metadata": {
        "id": "QpFy2hbN6S9Z",
        "outputId": "4ec6facf-1693-41cf-b2d0-064875b5d9b8"
      },
      "outputs": [
        {
          "name": "stderr",
          "output_type": "stream",
          "text": [
            "uploading data:   0%|                              | 0.00/4.06M [00:00<?, ?B/s]\n",
            "INFO:terality:The result of te.ndarray.from_ndarray was retrieved from cache [docs: https://docs.terality.com/getting-terality/user-guide/caching].\n"
          ]
        }
      ],
      "source": [
        "# Store 70% of the sample in the dataframe big_df\n",
        "big_df=df_insta[dev]"
      ]
    },
    {
      "cell_type": "code",
      "execution_count": null,
      "metadata": {
        "id": "xN0adZYN6S9a",
        "outputId": "074aa325-483d-450f-9f5a-1d6c3f656c84"
      },
      "outputs": [
        {
          "name": "stderr",
          "output_type": "stream",
          "text": [
            "uploading data:   0%|                              | 0.00/4.06M [00:00<?, ?B/s]\n",
            "INFO:terality:The result of te.ndarray.from_ndarray was retrieved from cache [docs: https://docs.terality.com/getting-terality/user-guide/caching].\n"
          ]
        }
      ],
      "source": [
        "# Store 30% of the sample in the dataframe small\n",
        "small_df=df_insta[~dev]"
      ]
    },
    {
      "cell_type": "code",
      "execution_count": null,
      "metadata": {
        "id": "yyNXEH6Q6S9b"
      },
      "outputs": [],
      "source": [
        "small_df.to_parquet_folder(os.path.join(path, '02 Data','Prepared Data', 'small_insta*.parquet'))"
      ]
    },
    {
      "cell_type": "code",
      "execution_count": null,
      "metadata": {
        "id": "jEc07SGf6S9b"
      },
      "outputs": [],
      "source": [
        "smaller_df= small_df[['order_hour_of_day','prices']]"
      ]
    },
    {
      "cell_type": "code",
      "execution_count": null,
      "metadata": {
        "id": "ZrINRLpd6S9c"
      },
      "outputs": [],
      "source": [
        "smaller_df.to_parquet(os.path.join(path, '02 Data','Prepared Data', 'small_hours_prices.parquet'))"
      ]
    },
    {
      "cell_type": "code",
      "execution_count": 3,
      "metadata": {
        "id": "ETUijOtq6S9c"
      },
      "outputs": [],
      "source": [
        "df_small_hours_prices = pd.read_parquet('/content/small_hours_prices.parquet', engine='fastparquet')"
      ]
    },
    {
      "cell_type": "code",
      "source": [
        "line_hours_prices = sns.lineplot(data =df_small_hours_prices, x = 'order_hour_of_day',y = 'prices')"
      ],
      "metadata": {
        "colab": {
          "base_uri": "https://localhost:8080/",
          "height": 284
        },
        "id": "WBef7F-Y7Ga9",
        "outputId": "67347e6f-eb6e-4c4b-8d8b-0da402a8da5a"
      },
      "execution_count": 4,
      "outputs": [
        {
          "output_type": "display_data",
          "data": {
            "text/plain": [
              "<Figure size 432x288 with 1 Axes>"
            ],
            "image/png": "[encoded data removed]"
          },
          "metadata": {
            "needs_background": "light"
          }
        }
      ]
    },
    {
      "cell_type": "markdown",
      "source": [
        "Peak expenditures appear to be in the early morning between about 5 and 8am."
      ],
      "metadata": {
        "id": "B-50x8sJ9WEn"
      }
    },
    {
      "cell_type": "code",
      "source": [
        "import pandas as pd\n",
        "import numpy as np\n",
        "import os\n",
        "import matplotlib.pyplot as plt\n",
        "import seaborn as sns\n",
        "import scipy"
      ],
      "metadata": {
        "id": "yfVa571_vHd7"
      },
      "execution_count": 1,
      "outputs": []
    },
    {
      "cell_type": "code",
      "source": [
        "df_age_dependents = pd.read_parquet('/content/age_dependents.parquet', engine='fastparquet')"
      ],
      "metadata": {
        "id": "uLAUqJ-ivLMA"
      },
      "execution_count": 3,
      "outputs": []
    },
    {
      "cell_type": "code",
      "source": [
        "line_age_dependents = sns.lineplot(data =df_age_dependents, x = 'age',y = 'n_dependants')"
      ],
      "metadata": {
        "colab": {
          "base_uri": "https://localhost:8080/",
          "height": 279
        },
        "id": "JFSSBcOzwBsY",
        "outputId": "617f0b88-cb5b-4ef2-c147-51c3fcd4c3ac"
      },
      "execution_count": 4,
      "outputs": [
        {
          "output_type": "display_data",
          "data": {
            "text/plain": [
              "<Figure size 432x288 with 1 Axes>"
            ],
            "image/png": "[encoded data removed]"
          },
          "metadata": {
            "needs_background": "light"
          }
        }
      ]
    },
    {
      "cell_type": "markdown",
      "source": [
        "Number of dependents does not seem to follow an easily discernible pattern, trend or relationship. A scatterplot might be a better option in this case. Peak number of dependents are around 60 and 20 years of age. Average number of dependents across all ages appears to be 1.5."
      ],
      "metadata": {
        "id": "v-WP65SiyiBT"
      }
    },
    {
      "cell_type": "code",
      "source": [
        "line_age_dependents.figure.savefig('/content/lime_age_dependents.png')"
      ],
      "metadata": {
        "id": "aqWg4eQUzgdL"
      },
      "execution_count": 5,
      "outputs": []
    },
    {
      "cell_type": "code",
      "source": [
        "df_age_income=pd.read_parquet('/content/age_income.parquet', engine='fastparquet')"
      ],
      "metadata": {
        "id": "LQRM2FEW04oK"
      },
      "execution_count": 6,
      "outputs": []
    },
    {
      "cell_type": "code",
      "source": [
        "age_income_scatter=sns.scatterplot(x = 'age', y = 'income',data = df_age_income)"
      ],
      "metadata": {
        "colab": {
          "base_uri": "https://localhost:8080/",
          "height": 279
        },
        "id": "mG1vU0yr3HXa",
        "outputId": "4a17cb1a-2271-47ca-e60a-ef77263dbf1f"
      },
      "execution_count": 8,
      "outputs": [
        {
          "output_type": "display_data",
          "data": {
            "text/plain": [
              "<Figure size 432x288 with 1 Axes>"
            ],
            "image/png": "[encoded data removed]"
          },
          "metadata": {
            "needs_background": "light"
          }
        }
      ]
    },
    {
      "cell_type": "markdown",
      "source": [
        "Most income is concentrated in the 1000 to 30,000 range across all age groups. The upper range increases dramatically after age 40."
      ],
      "metadata": {
        "id": "kSDJ3uUO30rx"
      }
    },
    {
      "cell_type": "code",
      "source": [
        "age_income_scatter.figure.savefig('/content/age_income_scatter.png')"
      ],
      "metadata": {
        "id": "uUQGWYVW4efQ"
      },
      "execution_count": 9,
      "outputs": []
    },
    {
      "cell_type": "code",
      "source": [
        ""
      ],
      "metadata": {
        "id": "wVt5Mdtk5BVz"
      },
      "execution_count": null,
      "outputs": []
    }
  ],
  "metadata": {
    "colab": {
      "collapsed_sections": [],
      "name": "Ex4_9_Task_part2c.ipynb",
      "provenance": []
    },
    "kernelspec": {
      "display_name": "Python 3 (ipykernel)",
      "language": "python",
      "name": "python3"
    },
    "language_info": {
      "codemirror_mode": {
        "name": "ipython",
        "version": 3
      },
      "file_extension": ".py",
      "mimetype": "text/x-python",
      "name": "python",
      "nbconvert_exporter": "python",
      "pygments_lexer": "ipython3",
      "version": "3.9.7"
    }
  },
  "nbformat": 4,
  "nbformat_minor": 0
}
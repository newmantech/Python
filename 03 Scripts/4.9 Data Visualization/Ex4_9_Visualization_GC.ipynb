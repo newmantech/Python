{
  "nbformat": 4,
  "nbformat_minor": 0,
  "metadata": {
    "colab": {
      "name": "Ex4.9_Visualization",
      "provenance": [],
      "toc_visible": true
    },
    "kernelspec": {
      "name": "python3",
      "display_name": "Python 3"
    },
    "language_info": {
      "name": "python"
    }
  },
  "cells": [
    {
      "cell_type": "code",
      "source": [
        "import pandas as pd\n",
        "import numpy as np\n",
        "import os\n",
        "import matplotlib.pyplot as plt\n",
        "import seaborn as sns\n",
        "import scipy"
      ],
      "metadata": {
        "id": "Zn35iiXLbVl1"
      },
      "execution_count": 3,
      "outputs": []
    },
    {
      "cell_type": "code",
      "source": [
        "from pandas.io.parquet import FastParquetImpl"
      ],
      "metadata": {
        "id": "ALa7X6S7hknL"
      },
      "execution_count": 4,
      "outputs": []
    },
    {
      "cell_type": "code",
      "source": [
        "pip install fastparquet"
      ],
      "metadata": {
        "colab": {
          "base_uri": "https://localhost:8080/"
        },
        "id": "whOPMccAhpuJ",
        "outputId": "da6a682e-97a7-47f5-f633-5e14647064ad"
      },
      "execution_count": 6,
      "outputs": [
        {
          "output_type": "stream",
          "name": "stdout",
          "text": [
            "Collecting fastparquet\n",
            "  Downloading fastparquet-0.8.1-cp37-cp37m-manylinux_2_17_x86_64.manylinux2014_x86_64.whl (1.5 MB)\n",
            "\u001b[?25l\r\u001b[K     |▏                               | 10 kB 32.3 MB/s eta 0:00:01\r\u001b[K     |▍                               | 20 kB 31.4 MB/s eta 0:00:01\r\u001b[K     |▋                               | 30 kB 14.7 MB/s eta 0:00:01\r\u001b[K     |▉                               | 40 kB 6.5 MB/s eta 0:00:01\r\u001b[K     |█                               | 51 kB 6.0 MB/s eta 0:00:01\r\u001b[K     |█▎                              | 61 kB 7.1 MB/s eta 0:00:01\r\u001b[K     |█▌                              | 71 kB 7.0 MB/s eta 0:00:01\r\u001b[K     |█▊                              | 81 kB 6.0 MB/s eta 0:00:01\r\u001b[K     |██                              | 92 kB 6.6 MB/s eta 0:00:01\r\u001b[K     |██▏                             | 102 kB 7.3 MB/s eta 0:00:01\r\u001b[K     |██▍                             | 112 kB 7.3 MB/s eta 0:00:01\r\u001b[K     |██▋                             | 122 kB 7.3 MB/s eta 0:00:01\r\u001b[K     |██▉                             | 133 kB 7.3 MB/s eta 0:00:01\r\u001b[K     |███                             | 143 kB 7.3 MB/s eta 0:00:01\r\u001b[K     |███▎                            | 153 kB 7.3 MB/s eta 0:00:01\r\u001b[K     |███▌                            | 163 kB 7.3 MB/s eta 0:00:01\r\u001b[K     |███▊                            | 174 kB 7.3 MB/s eta 0:00:01\r\u001b[K     |████                            | 184 kB 7.3 MB/s eta 0:00:01\r\u001b[K     |████▏                           | 194 kB 7.3 MB/s eta 0:00:01\r\u001b[K     |████▍                           | 204 kB 7.3 MB/s eta 0:00:01\r\u001b[K     |████▋                           | 215 kB 7.3 MB/s eta 0:00:01\r\u001b[K     |████▉                           | 225 kB 7.3 MB/s eta 0:00:01\r\u001b[K     |█████                           | 235 kB 7.3 MB/s eta 0:00:01\r\u001b[K     |█████▎                          | 245 kB 7.3 MB/s eta 0:00:01\r\u001b[K     |█████▌                          | 256 kB 7.3 MB/s eta 0:00:01\r\u001b[K     |█████▊                          | 266 kB 7.3 MB/s eta 0:00:01\r\u001b[K     |██████                          | 276 kB 7.3 MB/s eta 0:00:01\r\u001b[K     |██████▏                         | 286 kB 7.3 MB/s eta 0:00:01\r\u001b[K     |██████▍                         | 296 kB 7.3 MB/s eta 0:00:01\r\u001b[K     |██████▋                         | 307 kB 7.3 MB/s eta 0:00:01\r\u001b[K     |██████▉                         | 317 kB 7.3 MB/s eta 0:00:01\r\u001b[K     |███████                         | 327 kB 7.3 MB/s eta 0:00:01\r\u001b[K     |███████▎                        | 337 kB 7.3 MB/s eta 0:00:01\r\u001b[K     |███████▌                        | 348 kB 7.3 MB/s eta 0:00:01\r\u001b[K     |███████▊                        | 358 kB 7.3 MB/s eta 0:00:01\r\u001b[K     |████████                        | 368 kB 7.3 MB/s eta 0:00:01\r\u001b[K     |████████▏                       | 378 kB 7.3 MB/s eta 0:00:01\r\u001b[K     |████████▍                       | 389 kB 7.3 MB/s eta 0:00:01\r\u001b[K     |████████▋                       | 399 kB 7.3 MB/s eta 0:00:01\r\u001b[K     |████████▉                       | 409 kB 7.3 MB/s eta 0:00:01\r\u001b[K     |█████████                       | 419 kB 7.3 MB/s eta 0:00:01\r\u001b[K     |█████████▎                      | 430 kB 7.3 MB/s eta 0:00:01\r\u001b[K     |█████████▌                      | 440 kB 7.3 MB/s eta 0:00:01\r\u001b[K     |█████████▊                      | 450 kB 7.3 MB/s eta 0:00:01\r\u001b[K     |██████████                      | 460 kB 7.3 MB/s eta 0:00:01\r\u001b[K     |██████████▏                     | 471 kB 7.3 MB/s eta 0:00:01\r\u001b[K     |██████████▍                     | 481 kB 7.3 MB/s eta 0:00:01\r\u001b[K     |██████████▋                     | 491 kB 7.3 MB/s eta 0:00:01\r\u001b[K     |██████████▉                     | 501 kB 7.3 MB/s eta 0:00:01\r\u001b[K     |███████████                     | 512 kB 7.3 MB/s eta 0:00:01\r\u001b[K     |███████████▎                    | 522 kB 7.3 MB/s eta 0:00:01\r\u001b[K     |███████████▌                    | 532 kB 7.3 MB/s eta 0:00:01\r\u001b[K     |███████████▊                    | 542 kB 7.3 MB/s eta 0:00:01\r\u001b[K     |████████████                    | 552 kB 7.3 MB/s eta 0:00:01\r\u001b[K     |████████████▏                   | 563 kB 7.3 MB/s eta 0:00:01\r\u001b[K     |████████████▍                   | 573 kB 7.3 MB/s eta 0:00:01\r\u001b[K     |████████████▋                   | 583 kB 7.3 MB/s eta 0:00:01\r\u001b[K     |████████████▉                   | 593 kB 7.3 MB/s eta 0:00:01\r\u001b[K     |█████████████                   | 604 kB 7.3 MB/s eta 0:00:01\r\u001b[K     |█████████████▎                  | 614 kB 7.3 MB/s eta 0:00:01\r\u001b[K     |█████████████▌                  | 624 kB 7.3 MB/s eta 0:00:01\r\u001b[K     |█████████████▊                  | 634 kB 7.3 MB/s eta 0:00:01\r\u001b[K     |██████████████                  | 645 kB 7.3 MB/s eta 0:00:01\r\u001b[K     |██████████████▏                 | 655 kB 7.3 MB/s eta 0:00:01\r\u001b[K     |██████████████▍                 | 665 kB 7.3 MB/s eta 0:00:01\r\u001b[K     |██████████████▋                 | 675 kB 7.3 MB/s eta 0:00:01\r\u001b[K     |██████████████▉                 | 686 kB 7.3 MB/s eta 0:00:01\r\u001b[K     |███████████████                 | 696 kB 7.3 MB/s eta 0:00:01\r\u001b[K     |███████████████▎                | 706 kB 7.3 MB/s eta 0:00:01\r\u001b[K     |███████████████▌                | 716 kB 7.3 MB/s eta 0:00:01\r\u001b[K     |███████████████▊                | 727 kB 7.3 MB/s eta 0:00:01\r\u001b[K     |████████████████                | 737 kB 7.3 MB/s eta 0:00:01\r\u001b[K     |████████████████▏               | 747 kB 7.3 MB/s eta 0:00:01\r\u001b[K     |████████████████▍               | 757 kB 7.3 MB/s eta 0:00:01\r\u001b[K     |████████████████▋               | 768 kB 7.3 MB/s eta 0:00:01\r\u001b[K     |████████████████▉               | 778 kB 7.3 MB/s eta 0:00:01\r\u001b[K     |█████████████████               | 788 kB 7.3 MB/s eta 0:00:01\r\u001b[K     |█████████████████▎              | 798 kB 7.3 MB/s eta 0:00:01\r\u001b[K     |█████████████████▌              | 808 kB 7.3 MB/s eta 0:00:01\r\u001b[K     |█████████████████▊              | 819 kB 7.3 MB/s eta 0:00:01\r\u001b[K     |██████████████████              | 829 kB 7.3 MB/s eta 0:00:01\r\u001b[K     |██████████████████▏             | 839 kB 7.3 MB/s eta 0:00:01\r\u001b[K     |██████████████████▍             | 849 kB 7.3 MB/s eta 0:00:01\r\u001b[K     |██████████████████▋             | 860 kB 7.3 MB/s eta 0:00:01\r\u001b[K     |██████████████████▉             | 870 kB 7.3 MB/s eta 0:00:01\r\u001b[K     |███████████████████             | 880 kB 7.3 MB/s eta 0:00:01\r\u001b[K     |███████████████████▎            | 890 kB 7.3 MB/s eta 0:00:01\r\u001b[K     |███████████████████▌            | 901 kB 7.3 MB/s eta 0:00:01\r\u001b[K     |███████████████████▊            | 911 kB 7.3 MB/s eta 0:00:01\r\u001b[K     |████████████████████            | 921 kB 7.3 MB/s eta 0:00:01\r\u001b[K     |████████████████████▏           | 931 kB 7.3 MB/s eta 0:00:01\r\u001b[K     |████████████████████▍           | 942 kB 7.3 MB/s eta 0:00:01\r\u001b[K     |████████████████████▋           | 952 kB 7.3 MB/s eta 0:00:01\r\u001b[K     |████████████████████▉           | 962 kB 7.3 MB/s eta 0:00:01\r\u001b[K     |█████████████████████           | 972 kB 7.3 MB/s eta 0:00:01\r\u001b[K     |█████████████████████▎          | 983 kB 7.3 MB/s eta 0:00:01\r\u001b[K     |█████████████████████▌          | 993 kB 7.3 MB/s eta 0:00:01\r\u001b[K     |█████████████████████▊          | 1.0 MB 7.3 MB/s eta 0:00:01\r\u001b[K     |██████████████████████          | 1.0 MB 7.3 MB/s eta 0:00:01\r\u001b[K     |██████████████████████▏         | 1.0 MB 7.3 MB/s eta 0:00:01\r\u001b[K     |██████████████████████▍         | 1.0 MB 7.3 MB/s eta 0:00:01\r\u001b[K     |██████████████████████▋         | 1.0 MB 7.3 MB/s eta 0:00:01\r\u001b[K     |██████████████████████▉         | 1.1 MB 7.3 MB/s eta 0:00:01\r\u001b[K     |███████████████████████         | 1.1 MB 7.3 MB/s eta 0:00:01\r\u001b[K     |███████████████████████▎        | 1.1 MB 7.3 MB/s eta 0:00:01\r\u001b[K     |███████████████████████▌        | 1.1 MB 7.3 MB/s eta 0:00:01\r\u001b[K     |███████████████████████▊        | 1.1 MB 7.3 MB/s eta 0:00:01\r\u001b[K     |████████████████████████        | 1.1 MB 7.3 MB/s eta 0:00:01\r\u001b[K     |████████████████████████▏       | 1.1 MB 7.3 MB/s eta 0:00:01\r\u001b[K     |████████████████████████▍       | 1.1 MB 7.3 MB/s eta 0:00:01\r\u001b[K     |████████████████████████▋       | 1.1 MB 7.3 MB/s eta 0:00:01\r\u001b[K     |████████████████████████▉       | 1.1 MB 7.3 MB/s eta 0:00:01\r\u001b[K     |█████████████████████████       | 1.2 MB 7.3 MB/s eta 0:00:01\r\u001b[K     |█████████████████████████▎      | 1.2 MB 7.3 MB/s eta 0:00:01\r\u001b[K     |█████████████████████████▌      | 1.2 MB 7.3 MB/s eta 0:00:01\r\u001b[K     |█████████████████████████▊      | 1.2 MB 7.3 MB/s eta 0:00:01\r\u001b[K     |██████████████████████████      | 1.2 MB 7.3 MB/s eta 0:00:01\r\u001b[K     |██████████████████████████▏     | 1.2 MB 7.3 MB/s eta 0:00:01\r\u001b[K     |██████████████████████████▍     | 1.2 MB 7.3 MB/s eta 0:00:01\r\u001b[K     |██████████████████████████▋     | 1.2 MB 7.3 MB/s eta 0:00:01\r\u001b[K     |██████████████████████████▉     | 1.2 MB 7.3 MB/s eta 0:00:01\r\u001b[K     |███████████████████████████     | 1.2 MB 7.3 MB/s eta 0:00:01\r\u001b[K     |███████████████████████████▎    | 1.3 MB 7.3 MB/s eta 0:00:01\r\u001b[K     |███████████████████████████▌    | 1.3 MB 7.3 MB/s eta 0:00:01\r\u001b[K     |███████████████████████████▊    | 1.3 MB 7.3 MB/s eta 0:00:01\r\u001b[K     |████████████████████████████    | 1.3 MB 7.3 MB/s eta 0:00:01\r\u001b[K     |████████████████████████████▏   | 1.3 MB 7.3 MB/s eta 0:00:01\r\u001b[K     |████████████████████████████▍   | 1.3 MB 7.3 MB/s eta 0:00:01\r\u001b[K     |████████████████████████████▋   | 1.3 MB 7.3 MB/s eta 0:00:01\r\u001b[K     |████████████████████████████▉   | 1.3 MB 7.3 MB/s eta 0:00:01\r\u001b[K     |█████████████████████████████   | 1.3 MB 7.3 MB/s eta 0:00:01\r\u001b[K     |█████████████████████████████▎  | 1.4 MB 7.3 MB/s eta 0:00:01\r\u001b[K     |█████████████████████████████▌  | 1.4 MB 7.3 MB/s eta 0:00:01\r\u001b[K     |█████████████████████████████▊  | 1.4 MB 7.3 MB/s eta 0:00:01\r\u001b[K     |██████████████████████████████  | 1.4 MB 7.3 MB/s eta 0:00:01\r\u001b[K     |██████████████████████████████▏ | 1.4 MB 7.3 MB/s eta 0:00:01\r\u001b[K     |██████████████████████████████▍ | 1.4 MB 7.3 MB/s eta 0:00:01\r\u001b[K     |██████████████████████████████▋ | 1.4 MB 7.3 MB/s eta 0:00:01\r\u001b[K     |██████████████████████████████▉ | 1.4 MB 7.3 MB/s eta 0:00:01\r\u001b[K     |███████████████████████████████ | 1.4 MB 7.3 MB/s eta 0:00:01\r\u001b[K     |███████████████████████████████▎| 1.4 MB 7.3 MB/s eta 0:00:01\r\u001b[K     |███████████████████████████████▌| 1.5 MB 7.3 MB/s eta 0:00:01\r\u001b[K     |███████████████████████████████▊| 1.5 MB 7.3 MB/s eta 0:00:01\r\u001b[K     |████████████████████████████████| 1.5 MB 7.3 MB/s eta 0:00:01\r\u001b[K     |████████████████████████████████| 1.5 MB 7.3 MB/s \n",
            "\u001b[?25hRequirement already satisfied: numpy>=1.18 in /usr/local/lib/python3.7/dist-packages (from fastparquet) (1.21.5)\n",
            "Collecting cramjam>=2.3.0\n",
            "  Downloading cramjam-2.5.0-cp37-cp37m-manylinux_2_5_x86_64.manylinux1_x86_64.whl (1.6 MB)\n",
            "\u001b[K     |████████████████████████████████| 1.6 MB 53.8 MB/s \n",
            "\u001b[?25hCollecting fsspec\n",
            "  Downloading fsspec-2022.3.0-py3-none-any.whl (136 kB)\n",
            "\u001b[K     |████████████████████████████████| 136 kB 73.0 MB/s \n",
            "\u001b[?25hRequirement already satisfied: pandas>=1.1.0 in /usr/local/lib/python3.7/dist-packages (from fastparquet) (1.3.5)\n",
            "Requirement already satisfied: pytz>=2017.3 in /usr/local/lib/python3.7/dist-packages (from pandas>=1.1.0->fastparquet) (2018.9)\n",
            "Requirement already satisfied: python-dateutil>=2.7.3 in /usr/local/lib/python3.7/dist-packages (from pandas>=1.1.0->fastparquet) (2.8.2)\n",
            "Requirement already satisfied: six>=1.5 in /usr/local/lib/python3.7/dist-packages (from python-dateutil>=2.7.3->pandas>=1.1.0->fastparquet) (1.15.0)\n",
            "Installing collected packages: fsspec, cramjam, fastparquet\n",
            "Successfully installed cramjam-2.5.0 fastparquet-0.8.1 fsspec-2022.3.0\n"
          ]
        }
      ]
    },
    {
      "cell_type": "code",
      "source": [
        "ords_prods_merge = pd.read_parquet('/content/ords_folder/', engine='fastparquet')"
      ],
      "metadata": {
        "id": "p-WaG7gwiAfD"
      },
      "execution_count": 7,
      "outputs": []
    },
    {
      "cell_type": "code",
      "source": [
        "ords_prods_merge['orders_day_of_week'].value_counts().plot.bar()"
      ],
      "metadata": {
        "colab": {
          "base_uri": "https://localhost:8080/",
          "height": 299
        },
        "id": "dvIbCG-GiE90",
        "outputId": "f369c06b-8b7f-45d8-b382-0c1707efd02c"
      },
      "execution_count": 8,
      "outputs": [
        {
          "output_type": "execute_result",
          "data": {
            "text/plain": [
              "<matplotlib.axes._subplots.AxesSubplot at 0x7f4c150225d0>"
            ]
          },
          "metadata": {},
          "execution_count": 8
        },
        {
          "output_type": "display_data",
          "data": {
            "text/plain": [
              "<Figure size 432x288 with 1 Axes>"
            ],
            "image/png": "[encoded data removed]"
          },
          "metadata": {
            "needs_background": "light"
          }
        }
      ]
    },
    {
      "cell_type": "code",
      "source": [
        "ords_prods_merge['orders_day_of_week'].value_counts().sort_index().plot.bar()"
      ],
      "metadata": {
        "colab": {
          "base_uri": "https://localhost:8080/",
          "height": 299
        },
        "id": "DugurDIeijou",
        "outputId": "8775bf48-1af2-469b-f8fc-2fe1ecae9b1b"
      },
      "execution_count": 9,
      "outputs": [
        {
          "output_type": "execute_result",
          "data": {
            "text/plain": [
              "<matplotlib.axes._subplots.AxesSubplot at 0x7f4bcc00d890>"
            ]
          },
          "metadata": {},
          "execution_count": 9
        },
        {
          "output_type": "display_data",
          "data": {
            "text/plain": [
              "<Figure size 432x288 with 1 Axes>"
            ],
            "image/png": "[encoded data removed]"
          },
          "metadata": {
            "needs_background": "light"
          }
        }
      ]
    },
    {
      "cell_type": "code",
      "source": [
        "ords_prods_merge['orders_day_of_week'].value_counts().sort_index().plot.bar(color=['purple', 'red','pink', 'orange', 'yellow', 'green', 'blue'])"
      ],
      "metadata": {
        "colab": {
          "base_uri": "https://localhost:8080/",
          "height": 299
        },
        "id": "A2bKrSz8kkqL",
        "outputId": "65e4ee8f-8919-4be4-85fb-ebff7477d69d"
      },
      "execution_count": 10,
      "outputs": [
        {
          "output_type": "execute_result",
          "data": {
            "text/plain": [
              "<matplotlib.axes._subplots.AxesSubplot at 0x7f4bc9d52910>"
            ]
          },
          "metadata": {},
          "execution_count": 10
        },
        {
          "output_type": "display_data",
          "data": {
            "text/plain": [
              "<Figure size 432x288 with 1 Axes>"
            ],
            "image/png": "[encoded data removed]"
          },
          "metadata": {
            "needs_background": "light"
          }
        }
      ]
    },
    {
      "cell_type": "code",
      "source": [
        "bar = ords_prods_merge['orders_day_of_week'].value_counts().plot.bar(color =['purple', 'red', 'pink', 'orange', 'yellow', 'green', 'blue'])"
      ],
      "metadata": {
        "colab": {
          "base_uri": "https://localhost:8080/",
          "height": 282
        },
        "id": "9IV7duszlFSZ",
        "outputId": "f4cf7b70-1f13-4d20-843c-ea0d6c9ab7e4"
      },
      "execution_count": 12,
      "outputs": [
        {
          "output_type": "display_data",
          "data": {
            "text/plain": [
              "<Figure size 432x288 with 1 Axes>"
            ],
            "image/png": "[encoded data removed]"
          },
          "metadata": {
            "needs_background": "light"
          }
        }
      ]
    },
    {
      "cell_type": "code",
      "source": [
        "bar.figure.savefig('/content/Charts_Foundry/bar_orders_dow.png')"
      ],
      "metadata": {
        "id": "YC38FJAclqo0"
      },
      "execution_count": 14,
      "outputs": []
    }
  ]
}
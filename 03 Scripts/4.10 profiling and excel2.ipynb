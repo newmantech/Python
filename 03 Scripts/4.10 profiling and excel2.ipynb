{
 "cells": [
  {
   "cell_type": "code",
   "execution_count": 1,
   "id": "fd0dd0f4",
   "metadata": {},
   "outputs": [],
   "source": [
    "#import libraries\n",
    "import pandas as pd\n",
    "import numpy as np\n",
    "import os"
   ]
  },
  {
   "cell_type": "code",
   "execution_count": 2,
   "id": "832e3c96",
   "metadata": {},
   "outputs": [],
   "source": [
    "path = r'C:\\Users\\dbnew\\Instacart_Basket_Analysis_31_03-2022'"
   ]
  },
  {
   "cell_type": "code",
   "execution_count": null,
   "id": "9249ad15",
   "metadata": {},
   "outputs": [],
   "source": [
    "pip install pyarrow"
   ]
  },
  {
   "cell_type": "code",
   "execution_count": 3,
   "id": "c7c745ac",
   "metadata": {},
   "outputs": [],
   "source": [
    "df_insta = pd.read_parquet(os.path.join(path, '02 Data', 'Prepared Data', 'ords_prods_cust/'))"
   ]
  },
  {
   "cell_type": "code",
   "execution_count": null,
   "id": "3d686d0b",
   "metadata": {},
   "outputs": [],
   "source": [
    "pd.set_option('display.max_columns', 50)"
   ]
  },
  {
   "cell_type": "code",
   "execution_count": null,
   "id": "8aef2704",
   "metadata": {},
   "outputs": [],
   "source": [
    "df_insta.head()"
   ]
  },
  {
   "cell_type": "code",
   "execution_count": 8,
   "id": "37fc87b1",
   "metadata": {},
   "outputs": [
    {
     "name": "stdout",
     "output_type": "stream",
     "text": [
      "<class 'pandas.core.frame.DataFrame'>\n",
      "Int64Index: 32429932 entries, 0 to 8844531\n",
      "Data columns (total 34 columns):\n",
      " #   Column                  Dtype   \n",
      "---  ------                  -----   \n",
      " 0   order_id                float64 \n",
      " 1   user_id                 float64 \n",
      " 2   order_number            float64 \n",
      " 3   orders_day_of_week      float64 \n",
      " 4   order_hour_of_day       float64 \n",
      " 5   days_since_prior_order  float64 \n",
      " 6   product_id              int64   \n",
      " 7   add_to_cart_order       float64 \n",
      " 8   reordered               float64 \n",
      " 9   product_name            object  \n",
      " 10  aisle_id                float64 \n",
      " 11  department_id           float64 \n",
      " 12  prices                  float64 \n",
      " 13  first_merge             category\n",
      " 14  price_range             object  \n",
      " 15  busiest_slowest         object  \n",
      " 16  busy_hours              object  \n",
      " 17  max_order               float64 \n",
      " 18  loyalty_flag            object  \n",
      " 19  mean_spending           float64 \n",
      " 20  Spender Type            object  \n",
      " 21  median_days_btw_orders  float64 \n",
      " 22  customer_frequency      object  \n",
      " 23  first_name              object  \n",
      " 24  surname                 object  \n",
      " 25  gender                  object  \n",
      " 26  state                   object  \n",
      " 27  age                     int64   \n",
      " 28  date_joined             object  \n",
      " 29  n_dependants            int64   \n",
      " 30  family_status           object  \n",
      " 31  income                  int64   \n",
      " 32  _merge                  category\n",
      " 33  customer_activity       object  \n",
      "dtypes: category(2), float64(14), int64(4), object(14)\n",
      "memory usage: 8.0+ GB\n"
     ]
    }
   ],
   "source": [
    "df_insta.info()"
   ]
  },
  {
   "cell_type": "code",
   "execution_count": null,
   "id": "1308ca90",
   "metadata": {},
   "outputs": [],
   "source": [
    "## Dropping personally identifiable information (PII)\n",
    "df_insta.drop(['first_name', 'surname'], axis=1, inplace=True)"
   ]
  },
  {
   "cell_type": "code",
   "execution_count": null,
   "id": "972f8587",
   "metadata": {},
   "outputs": [],
   "source": [
    "df_insta.head()"
   ]
  },
  {
   "cell_type": "code",
   "execution_count": null,
   "id": "e6835d11",
   "metadata": {},
   "outputs": [],
   "source": [
    "##Renaming 'Spender Type' as 'spender_type' for consistency\n",
    "df_insta.rename(columns = {'Spender Type' : 'spender_type'}, inplace = True)"
   ]
  },
  {
   "cell_type": "code",
   "execution_count": null,
   "id": "78ad79d2",
   "metadata": {},
   "outputs": [],
   "source": [
    "df_insta.head()"
   ]
  },
  {
   "cell_type": "code",
   "execution_count": null,
   "id": "ebcfeaf7",
   "metadata": {},
   "outputs": [],
   "source": [
    "##Flagging northeast states in new column 'region'\n",
    "df_insta.loc[df_insta['state'].isin(['Maine', 'New Hampshire', 'Vermont', 'Massachusetts', 'Rhode Island', 'Connecticut', 'New York', 'Pennsylvania', 'New Jersey']), 'region']='Northeast'"
   ]
  },
  {
   "cell_type": "code",
   "execution_count": null,
   "id": "09f67aaa",
   "metadata": {},
   "outputs": [],
   "source": [
    "##Importing US state regions excel file based on https://simple.wikipedia.org/wiki/List_of_regions_of_the_United_States\n",
    "df_regions=pd.read_excel(r'C:\\Users\\dbnew\\OneDrive\\Documents\\Python_General\\State_Regions.xlsx', sheet_name=0)"
   ]
  },
  {
   "cell_type": "code",
   "execution_count": null,
   "id": "37a2fd68",
   "metadata": {},
   "outputs": [],
   "source": [
    "##Creating midwest list for eventual flagging with the loc function.\n",
    "midwest=list(df_regions['Midwest'])"
   ]
  },
  {
   "cell_type": "code",
   "execution_count": null,
   "id": "1299707e",
   "metadata": {},
   "outputs": [],
   "source": [
    "print(midwest)"
   ]
  },
  {
   "cell_type": "code",
   "execution_count": null,
   "id": "ef1e3c7b",
   "metadata": {},
   "outputs": [],
   "source": [
    "##Creating south list for eventual flagging with the loc function.\n",
    "south=list(df_regions['South'])"
   ]
  },
  {
   "cell_type": "code",
   "execution_count": null,
   "id": "468d9da8",
   "metadata": {},
   "outputs": [],
   "source": [
    "print(south)"
   ]
  },
  {
   "cell_type": "code",
   "execution_count": null,
   "id": "7e094b31",
   "metadata": {},
   "outputs": [],
   "source": [
    "##Creating south list for eventual flagging with the loc function.\n",
    "west=list(df_regions['West'])"
   ]
  },
  {
   "cell_type": "code",
   "execution_count": null,
   "id": "bf27ee1d",
   "metadata": {},
   "outputs": [],
   "source": [
    "print(west)"
   ]
  },
  {
   "cell_type": "code",
   "execution_count": null,
   "id": "6a44ea48",
   "metadata": {},
   "outputs": [],
   "source": [
    "##Flagging midwest states in column 'region'\n",
    "df_insta.loc[df_insta['state'].isin(['Wisconsin', 'Michigan', 'Illinois', 'Indiana', 'Ohio', 'North Dakota', 'South Dakota', 'Nebraska', 'Kansas', 'Minnesota', 'Iowa', 'Missouri']), 'region']='Midwest'"
   ]
  },
  {
   "cell_type": "code",
   "execution_count": null,
   "id": "62d1fa1b",
   "metadata": {},
   "outputs": [],
   "source": [
    "##Flagging southern states in column 'region'\n",
    "df_insta.loc[df_insta['state'].isin(['Delaware', 'Maryland', 'District of Columbia', 'Virginia', 'West Virginia', 'North Carolina', 'South Carolina', 'Georgia', 'Florida', 'Kentucky', 'Tennessee', 'Mississippi', 'Alabama', 'Oklahoma', 'Texas', 'Arkansas', 'Louisiana']), 'region']='South'"
   ]
  },
  {
   "cell_type": "code",
   "execution_count": null,
   "id": "7acae3cb",
   "metadata": {},
   "outputs": [],
   "source": [
    "##Flagging western states in column 'region'\n",
    "df_insta.loc[df_insta['state'].isin(['Idaho', 'Montana', 'Wyoming', 'Nevada', 'Utah', 'Colorado', 'Arizona', 'New Mexico', 'Alaska', 'Washington', 'Oregon', 'California','Hawaii']), 'region']='West'"
   ]
  },
  {
   "cell_type": "code",
   "execution_count": null,
   "id": "420fb249",
   "metadata": {},
   "outputs": [],
   "source": [
    "df_insta.head()"
   ]
  },
  {
   "cell_type": "code",
   "execution_count": null,
   "id": "ca8e2ba4",
   "metadata": {},
   "outputs": [],
   "source": [
    "##Checking flagging operation\n",
    "df_insta['region'].value_counts(dropna=False)"
   ]
  },
  {
   "cell_type": "code",
   "execution_count": null,
   "id": "4ef58e3b",
   "metadata": {},
   "outputs": [],
   "source": [
    "crosstab = pd.crosstab(df_insta['region'], df_insta['spender_type'], dropna = False)"
   ]
  },
  {
   "cell_type": "code",
   "execution_count": null,
   "id": "03d2e4ee",
   "metadata": {},
   "outputs": [],
   "source": [
    "crosstab"
   ]
  },
  {
   "cell_type": "code",
   "execution_count": null,
   "id": "c38cd0e7",
   "metadata": {},
   "outputs": [],
   "source": [
    "## Copying to excel to caclulate percentage of high spenders by region\n",
    "crosstab.to_clipboard()"
   ]
  },
  {
   "cell_type": "code",
   "execution_count": null,
   "id": "307124f7",
   "metadata": {},
   "outputs": [],
   "source": [
    "##Importing dataframe from excel showing percentages of high spenders by region\n",
    "big_spenders_by_region = pd.read_excel(os.path.join(path, '04 Analysis', 'Reports', 'Spending_By_Region.xlsx'))"
   ]
  },
  {
   "cell_type": "code",
   "execution_count": null,
   "id": "09cbad0e",
   "metadata": {},
   "outputs": [],
   "source": [
    "big_spenders_by_region"
   ]
  },
  {
   "cell_type": "code",
   "execution_count": null,
   "id": "edba16f7",
   "metadata": {},
   "outputs": [],
   "source": [
    "##Fixing percentage column\n",
    "big_spenders_by_region['Percent High Spenders']=big_spenders_by_region['Percent High Spenders']*100"
   ]
  },
  {
   "cell_type": "code",
   "execution_count": null,
   "id": "b6906c58",
   "metadata": {},
   "outputs": [],
   "source": [
    "big_spenders_by_region"
   ]
  },
  {
   "cell_type": "code",
   "execution_count": 4,
   "id": "62a02a84",
   "metadata": {},
   "outputs": [],
   "source": [
    "##Creating flag for low-activity customers\n",
    "df_insta.loc[df_insta['max_order'] < 5, 'customer_activity'] = 'Low-activity customer'"
   ]
  },
  {
   "cell_type": "code",
   "execution_count": 5,
   "id": "2b571b52",
   "metadata": {},
   "outputs": [],
   "source": [
    "##Creating flag for active customers\n",
    "df_insta.loc[df_insta['max_order'] >= 5, 'customer_activity'] = 'Active customer'"
   ]
  },
  {
   "cell_type": "code",
   "execution_count": null,
   "id": "0234c37b",
   "metadata": {},
   "outputs": [],
   "source": [
    "df_insta.head()"
   ]
  },
  {
   "cell_type": "code",
   "execution_count": 6,
   "id": "6fa05d1f",
   "metadata": {},
   "outputs": [
    {
     "data": {
      "text/plain": [
       "Active customer          30988612\n",
       "Low-activity customer     1441320\n",
       "Name: customer_activity, dtype: int64"
      ]
     },
     "execution_count": 6,
     "metadata": {},
     "output_type": "execute_result"
    }
   ],
   "source": [
    "##Checking flagging operaiton\n",
    "df_insta['customer_activity'].value_counts(dropna=False)"
   ]
  },
  {
   "cell_type": "code",
   "execution_count": null,
   "id": "7df7a603",
   "metadata": {},
   "outputs": [],
   "source": [
    "##Creating dataframe excluding low-activity customers\n",
    "df_insta_active=df_insta[df_insta.customer_activity=='Active customer']"
   ]
  },
  {
   "cell_type": "code",
   "execution_count": null,
   "id": "a15a0cc4",
   "metadata": {},
   "outputs": [],
   "source": [
    "##Checking new dataframe\n",
    "df_insta_active['customer_activity'].value_counts(dropna=False)"
   ]
  },
  {
   "cell_type": "code",
   "execution_count": null,
   "id": "b116e3a6",
   "metadata": {},
   "outputs": [],
   "source": [
    "##Exporting dataframe with only active customers\n",
    "df_insta_active.to_pickle(os.path.join(path, '02 Data','Prepared Data', 'insta_data_active_customers.pkl'))"
   ]
  },
  {
   "cell_type": "code",
   "execution_count": 5,
   "id": "86026205",
   "metadata": {},
   "outputs": [],
   "source": [
    "##Shutting down kernel and importing smaller data frame to save memory\n",
    "df_insta_smaller = pd.read_pickle(os.path.join(path, '02 Data', 'Prepared Data', 'insta_data_active_customers.pkl'))"
   ]
  },
  {
   "cell_type": "code",
   "execution_count": 6,
   "id": "bfa92571",
   "metadata": {},
   "outputs": [],
   "source": [
    "##Creating customer profile for \"rich cat ladies\"\n",
    "df_insta_smaller.loc[(df_insta_smaller['gender'] == 'Female') & (df_insta_smaller['department_id']==8) & (df_insta_smaller['income']>100000) & (df_insta_smaller['age']>32) & (df_insta_smaller['family_status'].isin(['single', 'divorced/widowed'])), 'profile'] = 'Rich cat ladies' "
   ]
  },
  {
   "cell_type": "code",
   "execution_count": 7,
   "id": "7ed922ad",
   "metadata": {},
   "outputs": [],
   "source": [
    "##Creating customer profile for \"old married men with kids\"\n",
    "df_insta_smaller.loc[(df_insta_smaller['gender'] == 'Male') & (df_insta_smaller['n_dependants']>0) & (df_insta_smaller['age']>50), 'profile'] = 'Old married men with kids' "
   ]
  },
  {
   "cell_type": "code",
   "execution_count": 8,
   "id": "ff5671c6",
   "metadata": {},
   "outputs": [
    {
     "data": {
      "text/plain": [
       "NaN                          25364373\n",
       "Old married men with kids     5619004\n",
       "Rich cat ladies                  5235\n",
       "Name: profile, dtype: int64"
      ]
     },
     "execution_count": 8,
     "metadata": {},
     "output_type": "execute_result"
    }
   ],
   "source": [
    "df_insta_smaller['profile'].value_counts(dropna=False)"
   ]
  },
  {
   "cell_type": "code",
   "execution_count": 9,
   "id": "eda59bbb",
   "metadata": {},
   "outputs": [],
   "source": [
    "##Creating customer profile for \"young alcoholics\"\n",
    "df_insta_smaller.loc[(df_insta_smaller['age'] <32) & (df_insta_smaller['department_id']==5), 'profile'] = 'Young alcoholics' "
   ]
  },
  {
   "cell_type": "code",
   "execution_count": 10,
   "id": "e09d0f1a",
   "metadata": {},
   "outputs": [],
   "source": [
    "pd.set_option('display.max_columns', 50)"
   ]
  },
  {
   "cell_type": "code",
   "execution_count": 11,
   "id": "72d1d90a",
   "metadata": {},
   "outputs": [],
   "source": [
    "##Creating smaller dataframe with profiles linked to user_ids\n",
    "df_profile=df_insta_smaller[['user_id', 'profile']]"
   ]
  },
  {
   "cell_type": "code",
   "execution_count": 12,
   "id": "c428437d",
   "metadata": {},
   "outputs": [
    {
     "data": {
      "text/html": [
       "<div>\n",
       "<style scoped>\n",
       "    .dataframe tbody tr th:only-of-type {\n",
       "        vertical-align: middle;\n",
       "    }\n",
       "\n",
       "    .dataframe tbody tr th {\n",
       "        vertical-align: top;\n",
       "    }\n",
       "\n",
       "    .dataframe thead th {\n",
       "        text-align: right;\n",
       "    }\n",
       "</style>\n",
       "<table border=\"1\" class=\"dataframe\">\n",
       "  <thead>\n",
       "    <tr style=\"text-align: right;\">\n",
       "      <th></th>\n",
       "      <th>user_id</th>\n",
       "      <th>profile</th>\n",
       "    </tr>\n",
       "  </thead>\n",
       "  <tbody>\n",
       "    <tr>\n",
       "      <th>0</th>\n",
       "      <td>1.0</td>\n",
       "      <td>NaN</td>\n",
       "    </tr>\n",
       "    <tr>\n",
       "      <th>1</th>\n",
       "      <td>1.0</td>\n",
       "      <td>NaN</td>\n",
       "    </tr>\n",
       "    <tr>\n",
       "      <th>2</th>\n",
       "      <td>1.0</td>\n",
       "      <td>NaN</td>\n",
       "    </tr>\n",
       "    <tr>\n",
       "      <th>3</th>\n",
       "      <td>1.0</td>\n",
       "      <td>NaN</td>\n",
       "    </tr>\n",
       "    <tr>\n",
       "      <th>4</th>\n",
       "      <td>1.0</td>\n",
       "      <td>NaN</td>\n",
       "    </tr>\n",
       "  </tbody>\n",
       "</table>\n",
       "</div>"
      ],
      "text/plain": [
       "   user_id profile\n",
       "0      1.0     NaN\n",
       "1      1.0     NaN\n",
       "2      1.0     NaN\n",
       "3      1.0     NaN\n",
       "4      1.0     NaN"
      ]
     },
     "execution_count": 12,
     "metadata": {},
     "output_type": "execute_result"
    }
   ],
   "source": [
    "df_profile.head()"
   ]
  },
  {
   "cell_type": "code",
   "execution_count": 13,
   "id": "6666a277",
   "metadata": {},
   "outputs": [
    {
     "data": {
      "text/plain": [
       "(30988612, 2)"
      ]
     },
     "execution_count": 13,
     "metadata": {},
     "output_type": "execute_result"
    }
   ],
   "source": [
    "df_profile.shape"
   ]
  },
  {
   "cell_type": "code",
   "execution_count": 14,
   "id": "1457b0cc",
   "metadata": {},
   "outputs": [],
   "source": [
    "##Removing null values from smaller dataframe\n",
    "df_profile_clean=df_profile[df_profile['profile'].isnull() == False]"
   ]
  },
  {
   "cell_type": "code",
   "execution_count": 15,
   "id": "baebb777",
   "metadata": {},
   "outputs": [
    {
     "data": {
      "text/plain": [
       "Old married men with kids    5619004\n",
       "Young alcoholics               33263\n",
       "Rich cat ladies                 5235\n",
       "Name: profile, dtype: int64"
      ]
     },
     "execution_count": 15,
     "metadata": {},
     "output_type": "execute_result"
    }
   ],
   "source": [
    "df_profile_clean['profile'].value_counts(dropna=False)"
   ]
  },
  {
   "cell_type": "code",
   "execution_count": 16,
   "id": "acdd8b2e",
   "metadata": {},
   "outputs": [
    {
     "data": {
      "text/plain": [
       "(5657502, 2)"
      ]
     },
     "execution_count": 16,
     "metadata": {},
     "output_type": "execute_result"
    }
   ],
   "source": [
    "df_profile_clean.shape"
   ]
  },
  {
   "cell_type": "code",
   "execution_count": 17,
   "id": "661ec010",
   "metadata": {},
   "outputs": [],
   "source": [
    "##Removing duplicates from smaller dataframe\n",
    "df_profile_unique_rows=df_profile_clean.drop_duplicates()"
   ]
  },
  {
   "cell_type": "code",
   "execution_count": 18,
   "id": "9c46e4fa",
   "metadata": {},
   "outputs": [
    {
     "data": {
      "text/plain": [
       "(33531, 2)"
      ]
     },
     "execution_count": 18,
     "metadata": {},
     "output_type": "execute_result"
    }
   ],
   "source": [
    "df_profile_unique_rows.shape"
   ]
  },
  {
   "cell_type": "code",
   "execution_count": 19,
   "id": "5a14a23a",
   "metadata": {},
   "outputs": [
    {
     "data": {
      "text/plain": [
       "Old married men with kids    29877\n",
       "Young alcoholics              2880\n",
       "Rich cat ladies                774\n",
       "Name: profile, dtype: int64"
      ]
     },
     "execution_count": 19,
     "metadata": {},
     "output_type": "execute_result"
    }
   ],
   "source": [
    "df_profile_unique_rows['profile'].value_counts(dropna=False)"
   ]
  },
  {
   "cell_type": "code",
   "execution_count": 20,
   "id": "33b3786c",
   "metadata": {},
   "outputs": [],
   "source": [
    "import matplotlib.pyplot as plt\n",
    "import seaborn as sns\n",
    "import scipy"
   ]
  },
  {
   "cell_type": "code",
   "execution_count": 27,
   "id": "55900c07",
   "metadata": {},
   "outputs": [
    {
     "data": {
      "image/png": "[encoded data removed]",
      "text/plain": [
       "<Figure size 432x288 with 1 Axes>"
      ]
     },
     "metadata": {
      "needs_background": "light"
     },
     "output_type": "display_data"
    }
   ],
   "source": [
    "##Create bar chart of profiles\n",
    "profile_bar=df_profile_unique_rows['profile'].value_counts().plot.bar()"
   ]
  },
  {
   "cell_type": "code",
   "execution_count": 28,
   "id": "7a0731ab",
   "metadata": {},
   "outputs": [],
   "source": [
    "profile_bar.figure.savefig(os.path.join(path, '04 Analysis','Visualizations', 'profile_bar.png'))"
   ]
  },
  {
   "cell_type": "code",
   "execution_count": 22,
   "id": "c4b30a3c",
   "metadata": {},
   "outputs": [],
   "source": [
    "##Merge smaller df with large df to fill in missing flags (profiles created with department ids did not carry flag to the same user id's purchases in other departments)\n",
    "insta_profile_fixed=df_insta_smaller.merge(df_profile_unique_rows, on=['user_id'], how='inner')"
   ]
  },
  {
   "cell_type": "code",
   "execution_count": 23,
   "id": "010bc345",
   "metadata": {},
   "outputs": [
    {
     "data": {
      "text/html": [
       "<div>\n",
       "<style scoped>\n",
       "    .dataframe tbody tr th:only-of-type {\n",
       "        vertical-align: middle;\n",
       "    }\n",
       "\n",
       "    .dataframe tbody tr th {\n",
       "        vertical-align: top;\n",
       "    }\n",
       "\n",
       "    .dataframe thead th {\n",
       "        text-align: right;\n",
       "    }\n",
       "</style>\n",
       "<table border=\"1\" class=\"dataframe\">\n",
       "  <thead>\n",
       "    <tr style=\"text-align: right;\">\n",
       "      <th></th>\n",
       "      <th>order_id</th>\n",
       "      <th>user_id</th>\n",
       "      <th>order_number</th>\n",
       "      <th>orders_day_of_week</th>\n",
       "      <th>order_hour_of_day</th>\n",
       "      <th>days_since_prior_order</th>\n",
       "      <th>product_id</th>\n",
       "      <th>add_to_cart_order</th>\n",
       "      <th>reordered</th>\n",
       "      <th>product_name</th>\n",
       "      <th>aisle_id</th>\n",
       "      <th>department_id</th>\n",
       "      <th>prices</th>\n",
       "      <th>first_merge</th>\n",
       "      <th>price_range</th>\n",
       "      <th>busiest_slowest</th>\n",
       "      <th>busy_hours</th>\n",
       "      <th>max_order</th>\n",
       "      <th>loyalty_flag</th>\n",
       "      <th>mean_spending</th>\n",
       "      <th>spender_type</th>\n",
       "      <th>median_days_btw_orders</th>\n",
       "      <th>customer_frequency</th>\n",
       "      <th>gender</th>\n",
       "      <th>state</th>\n",
       "      <th>age</th>\n",
       "      <th>date_joined</th>\n",
       "      <th>n_dependants</th>\n",
       "      <th>family_status</th>\n",
       "      <th>income</th>\n",
       "      <th>_merge</th>\n",
       "      <th>region</th>\n",
       "      <th>customer_activity</th>\n",
       "      <th>profile_x</th>\n",
       "      <th>profile_y</th>\n",
       "    </tr>\n",
       "  </thead>\n",
       "  <tbody>\n",
       "    <tr>\n",
       "      <th>0</th>\n",
       "      <td>691089.0</td>\n",
       "      <td>4.0</td>\n",
       "      <td>3.0</td>\n",
       "      <td>4.0</td>\n",
       "      <td>15.0</td>\n",
       "      <td>21.0</td>\n",
       "      <td>1200</td>\n",
       "      <td>1.0</td>\n",
       "      <td>0.0</td>\n",
       "      <td>Vegetable Classics Vegetable Soup</td>\n",
       "      <td>69.0</td>\n",
       "      <td>15.0</td>\n",
       "      <td>10.0</td>\n",
       "      <td>both</td>\n",
       "      <td>Mid-range product</td>\n",
       "      <td>Slowest</td>\n",
       "      <td>Most orders</td>\n",
       "      <td>5.0</td>\n",
       "      <td>New customer</td>\n",
       "      <td>8.205556</td>\n",
       "      <td>Low spender</td>\n",
       "      <td>17.0</td>\n",
       "      <td>Regular customer</td>\n",
       "      <td>Male</td>\n",
       "      <td>Arkansas</td>\n",
       "      <td>31</td>\n",
       "      <td>9/21/2017</td>\n",
       "      <td>3</td>\n",
       "      <td>married</td>\n",
       "      <td>45435</td>\n",
       "      <td>both</td>\n",
       "      <td>South</td>\n",
       "      <td>Active customer</td>\n",
       "      <td>NaN</td>\n",
       "      <td>Young alcoholics</td>\n",
       "    </tr>\n",
       "    <tr>\n",
       "      <th>1</th>\n",
       "      <td>3343014.0</td>\n",
       "      <td>4.0</td>\n",
       "      <td>1.0</td>\n",
       "      <td>6.0</td>\n",
       "      <td>11.0</td>\n",
       "      <td>0.0</td>\n",
       "      <td>2707</td>\n",
       "      <td>4.0</td>\n",
       "      <td>0.0</td>\n",
       "      <td>Complete™ ActionPacs™ Fresh Scent Dishwasher D...</td>\n",
       "      <td>74.0</td>\n",
       "      <td>17.0</td>\n",
       "      <td>11.9</td>\n",
       "      <td>both</td>\n",
       "      <td>Mid-range product</td>\n",
       "      <td>Regular</td>\n",
       "      <td>Most orders</td>\n",
       "      <td>5.0</td>\n",
       "      <td>New customer</td>\n",
       "      <td>8.205556</td>\n",
       "      <td>Low spender</td>\n",
       "      <td>17.0</td>\n",
       "      <td>Regular customer</td>\n",
       "      <td>Male</td>\n",
       "      <td>Arkansas</td>\n",
       "      <td>31</td>\n",
       "      <td>9/21/2017</td>\n",
       "      <td>3</td>\n",
       "      <td>married</td>\n",
       "      <td>45435</td>\n",
       "      <td>both</td>\n",
       "      <td>South</td>\n",
       "      <td>Active customer</td>\n",
       "      <td>NaN</td>\n",
       "      <td>Young alcoholics</td>\n",
       "    </tr>\n",
       "    <tr>\n",
       "      <th>2</th>\n",
       "      <td>3343014.0</td>\n",
       "      <td>4.0</td>\n",
       "      <td>1.0</td>\n",
       "      <td>6.0</td>\n",
       "      <td>11.0</td>\n",
       "      <td>0.0</td>\n",
       "      <td>35469</td>\n",
       "      <td>3.0</td>\n",
       "      <td>0.0</td>\n",
       "      <td>Enchilada Black Bean Vegetable</td>\n",
       "      <td>38.0</td>\n",
       "      <td>1.0</td>\n",
       "      <td>12.9</td>\n",
       "      <td>both</td>\n",
       "      <td>Mid-range product</td>\n",
       "      <td>Regular</td>\n",
       "      <td>Most orders</td>\n",
       "      <td>5.0</td>\n",
       "      <td>New customer</td>\n",
       "      <td>8.205556</td>\n",
       "      <td>Low spender</td>\n",
       "      <td>17.0</td>\n",
       "      <td>Regular customer</td>\n",
       "      <td>Male</td>\n",
       "      <td>Arkansas</td>\n",
       "      <td>31</td>\n",
       "      <td>9/21/2017</td>\n",
       "      <td>3</td>\n",
       "      <td>married</td>\n",
       "      <td>45435</td>\n",
       "      <td>both</td>\n",
       "      <td>South</td>\n",
       "      <td>Active customer</td>\n",
       "      <td>NaN</td>\n",
       "      <td>Young alcoholics</td>\n",
       "    </tr>\n",
       "    <tr>\n",
       "      <th>3</th>\n",
       "      <td>691089.0</td>\n",
       "      <td>4.0</td>\n",
       "      <td>3.0</td>\n",
       "      <td>4.0</td>\n",
       "      <td>15.0</td>\n",
       "      <td>21.0</td>\n",
       "      <td>35469</td>\n",
       "      <td>6.0</td>\n",
       "      <td>1.0</td>\n",
       "      <td>Enchilada Black Bean Vegetable</td>\n",
       "      <td>38.0</td>\n",
       "      <td>1.0</td>\n",
       "      <td>12.9</td>\n",
       "      <td>both</td>\n",
       "      <td>Mid-range product</td>\n",
       "      <td>Slowest</td>\n",
       "      <td>Most orders</td>\n",
       "      <td>5.0</td>\n",
       "      <td>New customer</td>\n",
       "      <td>8.205556</td>\n",
       "      <td>Low spender</td>\n",
       "      <td>17.0</td>\n",
       "      <td>Regular customer</td>\n",
       "      <td>Male</td>\n",
       "      <td>Arkansas</td>\n",
       "      <td>31</td>\n",
       "      <td>9/21/2017</td>\n",
       "      <td>3</td>\n",
       "      <td>married</td>\n",
       "      <td>45435</td>\n",
       "      <td>both</td>\n",
       "      <td>South</td>\n",
       "      <td>Active customer</td>\n",
       "      <td>NaN</td>\n",
       "      <td>Young alcoholics</td>\n",
       "    </tr>\n",
       "    <tr>\n",
       "      <th>4</th>\n",
       "      <td>3343014.0</td>\n",
       "      <td>4.0</td>\n",
       "      <td>1.0</td>\n",
       "      <td>6.0</td>\n",
       "      <td>11.0</td>\n",
       "      <td>0.0</td>\n",
       "      <td>36606</td>\n",
       "      <td>1.0</td>\n",
       "      <td>0.0</td>\n",
       "      <td>Sprouted Multi-Grain Bread</td>\n",
       "      <td>112.0</td>\n",
       "      <td>3.0</td>\n",
       "      <td>9.4</td>\n",
       "      <td>both</td>\n",
       "      <td>Mid-range product</td>\n",
       "      <td>Regular</td>\n",
       "      <td>Most orders</td>\n",
       "      <td>5.0</td>\n",
       "      <td>New customer</td>\n",
       "      <td>8.205556</td>\n",
       "      <td>Low spender</td>\n",
       "      <td>17.0</td>\n",
       "      <td>Regular customer</td>\n",
       "      <td>Male</td>\n",
       "      <td>Arkansas</td>\n",
       "      <td>31</td>\n",
       "      <td>9/21/2017</td>\n",
       "      <td>3</td>\n",
       "      <td>married</td>\n",
       "      <td>45435</td>\n",
       "      <td>both</td>\n",
       "      <td>South</td>\n",
       "      <td>Active customer</td>\n",
       "      <td>NaN</td>\n",
       "      <td>Young alcoholics</td>\n",
       "    </tr>\n",
       "  </tbody>\n",
       "</table>\n",
       "</div>"
      ],
      "text/plain": [
       "    order_id  user_id  order_number  orders_day_of_week  order_hour_of_day  \\\n",
       "0   691089.0      4.0           3.0                 4.0               15.0   \n",
       "1  3343014.0      4.0           1.0                 6.0               11.0   \n",
       "2  3343014.0      4.0           1.0                 6.0               11.0   \n",
       "3   691089.0      4.0           3.0                 4.0               15.0   \n",
       "4  3343014.0      4.0           1.0                 6.0               11.0   \n",
       "\n",
       "   days_since_prior_order  product_id  add_to_cart_order  reordered  \\\n",
       "0                    21.0        1200                1.0        0.0   \n",
       "1                     0.0        2707                4.0        0.0   \n",
       "2                     0.0       35469                3.0        0.0   \n",
       "3                    21.0       35469                6.0        1.0   \n",
       "4                     0.0       36606                1.0        0.0   \n",
       "\n",
       "                                        product_name  aisle_id  department_id  \\\n",
       "0                  Vegetable Classics Vegetable Soup      69.0           15.0   \n",
       "1  Complete™ ActionPacs™ Fresh Scent Dishwasher D...      74.0           17.0   \n",
       "2                     Enchilada Black Bean Vegetable      38.0            1.0   \n",
       "3                     Enchilada Black Bean Vegetable      38.0            1.0   \n",
       "4                         Sprouted Multi-Grain Bread     112.0            3.0   \n",
       "\n",
       "   prices first_merge        price_range busiest_slowest   busy_hours  \\\n",
       "0    10.0        both  Mid-range product         Slowest  Most orders   \n",
       "1    11.9        both  Mid-range product         Regular  Most orders   \n",
       "2    12.9        both  Mid-range product         Regular  Most orders   \n",
       "3    12.9        both  Mid-range product         Slowest  Most orders   \n",
       "4     9.4        both  Mid-range product         Regular  Most orders   \n",
       "\n",
       "   max_order  loyalty_flag  mean_spending spender_type  \\\n",
       "0        5.0  New customer       8.205556  Low spender   \n",
       "1        5.0  New customer       8.205556  Low spender   \n",
       "2        5.0  New customer       8.205556  Low spender   \n",
       "3        5.0  New customer       8.205556  Low spender   \n",
       "4        5.0  New customer       8.205556  Low spender   \n",
       "\n",
       "   median_days_btw_orders customer_frequency gender     state  age  \\\n",
       "0                    17.0   Regular customer   Male  Arkansas   31   \n",
       "1                    17.0   Regular customer   Male  Arkansas   31   \n",
       "2                    17.0   Regular customer   Male  Arkansas   31   \n",
       "3                    17.0   Regular customer   Male  Arkansas   31   \n",
       "4                    17.0   Regular customer   Male  Arkansas   31   \n",
       "\n",
       "  date_joined  n_dependants family_status  income _merge region  \\\n",
       "0   9/21/2017             3       married   45435   both  South   \n",
       "1   9/21/2017             3       married   45435   both  South   \n",
       "2   9/21/2017             3       married   45435   both  South   \n",
       "3   9/21/2017             3       married   45435   both  South   \n",
       "4   9/21/2017             3       married   45435   both  South   \n",
       "\n",
       "  customer_activity profile_x         profile_y  \n",
       "0   Active customer       NaN  Young alcoholics  \n",
       "1   Active customer       NaN  Young alcoholics  \n",
       "2   Active customer       NaN  Young alcoholics  \n",
       "3   Active customer       NaN  Young alcoholics  \n",
       "4   Active customer       NaN  Young alcoholics  "
      ]
     },
     "execution_count": 23,
     "metadata": {},
     "output_type": "execute_result"
    }
   ],
   "source": [
    "insta_profile_fixed.head()"
   ]
  },
  {
   "cell_type": "code",
   "execution_count": 24,
   "id": "f9137798",
   "metadata": {},
   "outputs": [
    {
     "data": {
      "text/plain": [
       "Old married men with kids    5619004\n",
       "Young alcoholics              519807\n",
       "Rich cat ladies               205725\n",
       "Name: profile_y, dtype: int64"
      ]
     },
     "execution_count": 24,
     "metadata": {},
     "output_type": "execute_result"
    }
   ],
   "source": [
    "insta_profile_fixed['profile_y'].value_counts(dropna=False)"
   ]
  },
  {
   "cell_type": "markdown",
   "id": "09fc7b6c",
   "metadata": {},
   "source": [
    "Missing flags have been added for profile_y. Customers outside of the three profiles are removed. This is the column we will use for analysis, while profile_x will be removed."
   ]
  },
  {
   "cell_type": "code",
   "execution_count": 25,
   "id": "ffd407f5",
   "metadata": {},
   "outputs": [
    {
     "data": {
      "text/plain": [
       "Old married men with kids    5619004\n",
       "NaN                           687034\n",
       "Young alcoholics               33263\n",
       "Rich cat ladies                 5235\n",
       "Name: profile_x, dtype: int64"
      ]
     },
     "execution_count": 25,
     "metadata": {},
     "output_type": "execute_result"
    }
   ],
   "source": [
    "insta_profile_fixed['profile_x'].value_counts(dropna=False)"
   ]
  },
  {
   "cell_type": "markdown",
   "id": "0de7ce3c",
   "metadata": {},
   "source": [
    "NaNs in profile_x presumably refer to profiled user's purchases in other departments. Customers outside of the three profiles are removed."
   ]
  },
  {
   "cell_type": "code",
   "execution_count": 26,
   "id": "0893c39b",
   "metadata": {},
   "outputs": [
    {
     "data": {
      "text/plain": [
       "NaN                          25331110\n",
       "Old married men with kids     5619004\n",
       "Young alcoholics                33263\n",
       "Rich cat ladies                  5235\n",
       "Name: profile, dtype: int64"
      ]
     },
     "execution_count": 26,
     "metadata": {},
     "output_type": "execute_result"
    }
   ],
   "source": [
    "df_insta_smaller['profile'].value_counts(dropna=False)"
   ]
  },
  {
   "cell_type": "markdown",
   "id": "278714a6",
   "metadata": {},
   "source": [
    "Need to determine why the number of records for the three labeled profiles in 'profile_x' do not match the original dataframe after doing a left or inner join (tried both). Profile_x should come from left dataframe, while profile_y should come from right dataframe.  "
   ]
  },
  {
   "cell_type": "code",
   "execution_count": 30,
   "id": "b859fa88",
   "metadata": {},
   "outputs": [],
   "source": [
    "insta_profile_fixed.drop(['profile_x'], axis=1, inplace=True)"
   ]
  },
  {
   "cell_type": "code",
   "execution_count": 31,
   "id": "ea5bc70d",
   "metadata": {},
   "outputs": [
    {
     "data": {
      "text/html": [
       "<div>\n",
       "<style scoped>\n",
       "    .dataframe tbody tr th:only-of-type {\n",
       "        vertical-align: middle;\n",
       "    }\n",
       "\n",
       "    .dataframe tbody tr th {\n",
       "        vertical-align: top;\n",
       "    }\n",
       "\n",
       "    .dataframe thead th {\n",
       "        text-align: right;\n",
       "    }\n",
       "</style>\n",
       "<table border=\"1\" class=\"dataframe\">\n",
       "  <thead>\n",
       "    <tr style=\"text-align: right;\">\n",
       "      <th></th>\n",
       "      <th>order_id</th>\n",
       "      <th>user_id</th>\n",
       "      <th>order_number</th>\n",
       "      <th>orders_day_of_week</th>\n",
       "      <th>order_hour_of_day</th>\n",
       "      <th>days_since_prior_order</th>\n",
       "      <th>product_id</th>\n",
       "      <th>add_to_cart_order</th>\n",
       "      <th>reordered</th>\n",
       "      <th>product_name</th>\n",
       "      <th>aisle_id</th>\n",
       "      <th>department_id</th>\n",
       "      <th>prices</th>\n",
       "      <th>first_merge</th>\n",
       "      <th>price_range</th>\n",
       "      <th>busiest_slowest</th>\n",
       "      <th>busy_hours</th>\n",
       "      <th>max_order</th>\n",
       "      <th>loyalty_flag</th>\n",
       "      <th>mean_spending</th>\n",
       "      <th>spender_type</th>\n",
       "      <th>median_days_btw_orders</th>\n",
       "      <th>customer_frequency</th>\n",
       "      <th>gender</th>\n",
       "      <th>state</th>\n",
       "      <th>age</th>\n",
       "      <th>date_joined</th>\n",
       "      <th>n_dependants</th>\n",
       "      <th>family_status</th>\n",
       "      <th>income</th>\n",
       "      <th>_merge</th>\n",
       "      <th>region</th>\n",
       "      <th>customer_activity</th>\n",
       "      <th>profile_y</th>\n",
       "    </tr>\n",
       "  </thead>\n",
       "  <tbody>\n",
       "    <tr>\n",
       "      <th>0</th>\n",
       "      <td>691089.0</td>\n",
       "      <td>4.0</td>\n",
       "      <td>3.0</td>\n",
       "      <td>4.0</td>\n",
       "      <td>15.0</td>\n",
       "      <td>21.0</td>\n",
       "      <td>1200</td>\n",
       "      <td>1.0</td>\n",
       "      <td>0.0</td>\n",
       "      <td>Vegetable Classics Vegetable Soup</td>\n",
       "      <td>69.0</td>\n",
       "      <td>15.0</td>\n",
       "      <td>10.0</td>\n",
       "      <td>both</td>\n",
       "      <td>Mid-range product</td>\n",
       "      <td>Slowest</td>\n",
       "      <td>Most orders</td>\n",
       "      <td>5.0</td>\n",
       "      <td>New customer</td>\n",
       "      <td>8.205556</td>\n",
       "      <td>Low spender</td>\n",
       "      <td>17.0</td>\n",
       "      <td>Regular customer</td>\n",
       "      <td>Male</td>\n",
       "      <td>Arkansas</td>\n",
       "      <td>31</td>\n",
       "      <td>9/21/2017</td>\n",
       "      <td>3</td>\n",
       "      <td>married</td>\n",
       "      <td>45435</td>\n",
       "      <td>both</td>\n",
       "      <td>South</td>\n",
       "      <td>Active customer</td>\n",
       "      <td>Young alcoholics</td>\n",
       "    </tr>\n",
       "    <tr>\n",
       "      <th>1</th>\n",
       "      <td>3343014.0</td>\n",
       "      <td>4.0</td>\n",
       "      <td>1.0</td>\n",
       "      <td>6.0</td>\n",
       "      <td>11.0</td>\n",
       "      <td>0.0</td>\n",
       "      <td>2707</td>\n",
       "      <td>4.0</td>\n",
       "      <td>0.0</td>\n",
       "      <td>Complete™ ActionPacs™ Fresh Scent Dishwasher D...</td>\n",
       "      <td>74.0</td>\n",
       "      <td>17.0</td>\n",
       "      <td>11.9</td>\n",
       "      <td>both</td>\n",
       "      <td>Mid-range product</td>\n",
       "      <td>Regular</td>\n",
       "      <td>Most orders</td>\n",
       "      <td>5.0</td>\n",
       "      <td>New customer</td>\n",
       "      <td>8.205556</td>\n",
       "      <td>Low spender</td>\n",
       "      <td>17.0</td>\n",
       "      <td>Regular customer</td>\n",
       "      <td>Male</td>\n",
       "      <td>Arkansas</td>\n",
       "      <td>31</td>\n",
       "      <td>9/21/2017</td>\n",
       "      <td>3</td>\n",
       "      <td>married</td>\n",
       "      <td>45435</td>\n",
       "      <td>both</td>\n",
       "      <td>South</td>\n",
       "      <td>Active customer</td>\n",
       "      <td>Young alcoholics</td>\n",
       "    </tr>\n",
       "    <tr>\n",
       "      <th>2</th>\n",
       "      <td>3343014.0</td>\n",
       "      <td>4.0</td>\n",
       "      <td>1.0</td>\n",
       "      <td>6.0</td>\n",
       "      <td>11.0</td>\n",
       "      <td>0.0</td>\n",
       "      <td>35469</td>\n",
       "      <td>3.0</td>\n",
       "      <td>0.0</td>\n",
       "      <td>Enchilada Black Bean Vegetable</td>\n",
       "      <td>38.0</td>\n",
       "      <td>1.0</td>\n",
       "      <td>12.9</td>\n",
       "      <td>both</td>\n",
       "      <td>Mid-range product</td>\n",
       "      <td>Regular</td>\n",
       "      <td>Most orders</td>\n",
       "      <td>5.0</td>\n",
       "      <td>New customer</td>\n",
       "      <td>8.205556</td>\n",
       "      <td>Low spender</td>\n",
       "      <td>17.0</td>\n",
       "      <td>Regular customer</td>\n",
       "      <td>Male</td>\n",
       "      <td>Arkansas</td>\n",
       "      <td>31</td>\n",
       "      <td>9/21/2017</td>\n",
       "      <td>3</td>\n",
       "      <td>married</td>\n",
       "      <td>45435</td>\n",
       "      <td>both</td>\n",
       "      <td>South</td>\n",
       "      <td>Active customer</td>\n",
       "      <td>Young alcoholics</td>\n",
       "    </tr>\n",
       "    <tr>\n",
       "      <th>3</th>\n",
       "      <td>691089.0</td>\n",
       "      <td>4.0</td>\n",
       "      <td>3.0</td>\n",
       "      <td>4.0</td>\n",
       "      <td>15.0</td>\n",
       "      <td>21.0</td>\n",
       "      <td>35469</td>\n",
       "      <td>6.0</td>\n",
       "      <td>1.0</td>\n",
       "      <td>Enchilada Black Bean Vegetable</td>\n",
       "      <td>38.0</td>\n",
       "      <td>1.0</td>\n",
       "      <td>12.9</td>\n",
       "      <td>both</td>\n",
       "      <td>Mid-range product</td>\n",
       "      <td>Slowest</td>\n",
       "      <td>Most orders</td>\n",
       "      <td>5.0</td>\n",
       "      <td>New customer</td>\n",
       "      <td>8.205556</td>\n",
       "      <td>Low spender</td>\n",
       "      <td>17.0</td>\n",
       "      <td>Regular customer</td>\n",
       "      <td>Male</td>\n",
       "      <td>Arkansas</td>\n",
       "      <td>31</td>\n",
       "      <td>9/21/2017</td>\n",
       "      <td>3</td>\n",
       "      <td>married</td>\n",
       "      <td>45435</td>\n",
       "      <td>both</td>\n",
       "      <td>South</td>\n",
       "      <td>Active customer</td>\n",
       "      <td>Young alcoholics</td>\n",
       "    </tr>\n",
       "    <tr>\n",
       "      <th>4</th>\n",
       "      <td>3343014.0</td>\n",
       "      <td>4.0</td>\n",
       "      <td>1.0</td>\n",
       "      <td>6.0</td>\n",
       "      <td>11.0</td>\n",
       "      <td>0.0</td>\n",
       "      <td>36606</td>\n",
       "      <td>1.0</td>\n",
       "      <td>0.0</td>\n",
       "      <td>Sprouted Multi-Grain Bread</td>\n",
       "      <td>112.0</td>\n",
       "      <td>3.0</td>\n",
       "      <td>9.4</td>\n",
       "      <td>both</td>\n",
       "      <td>Mid-range product</td>\n",
       "      <td>Regular</td>\n",
       "      <td>Most orders</td>\n",
       "      <td>5.0</td>\n",
       "      <td>New customer</td>\n",
       "      <td>8.205556</td>\n",
       "      <td>Low spender</td>\n",
       "      <td>17.0</td>\n",
       "      <td>Regular customer</td>\n",
       "      <td>Male</td>\n",
       "      <td>Arkansas</td>\n",
       "      <td>31</td>\n",
       "      <td>9/21/2017</td>\n",
       "      <td>3</td>\n",
       "      <td>married</td>\n",
       "      <td>45435</td>\n",
       "      <td>both</td>\n",
       "      <td>South</td>\n",
       "      <td>Active customer</td>\n",
       "      <td>Young alcoholics</td>\n",
       "    </tr>\n",
       "  </tbody>\n",
       "</table>\n",
       "</div>"
      ],
      "text/plain": [
       "    order_id  user_id  order_number  orders_day_of_week  order_hour_of_day  \\\n",
       "0   691089.0      4.0           3.0                 4.0               15.0   \n",
       "1  3343014.0      4.0           1.0                 6.0               11.0   \n",
       "2  3343014.0      4.0           1.0                 6.0               11.0   \n",
       "3   691089.0      4.0           3.0                 4.0               15.0   \n",
       "4  3343014.0      4.0           1.0                 6.0               11.0   \n",
       "\n",
       "   days_since_prior_order  product_id  add_to_cart_order  reordered  \\\n",
       "0                    21.0        1200                1.0        0.0   \n",
       "1                     0.0        2707                4.0        0.0   \n",
       "2                     0.0       35469                3.0        0.0   \n",
       "3                    21.0       35469                6.0        1.0   \n",
       "4                     0.0       36606                1.0        0.0   \n",
       "\n",
       "                                        product_name  aisle_id  department_id  \\\n",
       "0                  Vegetable Classics Vegetable Soup      69.0           15.0   \n",
       "1  Complete™ ActionPacs™ Fresh Scent Dishwasher D...      74.0           17.0   \n",
       "2                     Enchilada Black Bean Vegetable      38.0            1.0   \n",
       "3                     Enchilada Black Bean Vegetable      38.0            1.0   \n",
       "4                         Sprouted Multi-Grain Bread     112.0            3.0   \n",
       "\n",
       "   prices first_merge        price_range busiest_slowest   busy_hours  \\\n",
       "0    10.0        both  Mid-range product         Slowest  Most orders   \n",
       "1    11.9        both  Mid-range product         Regular  Most orders   \n",
       "2    12.9        both  Mid-range product         Regular  Most orders   \n",
       "3    12.9        both  Mid-range product         Slowest  Most orders   \n",
       "4     9.4        both  Mid-range product         Regular  Most orders   \n",
       "\n",
       "   max_order  loyalty_flag  mean_spending spender_type  \\\n",
       "0        5.0  New customer       8.205556  Low spender   \n",
       "1        5.0  New customer       8.205556  Low spender   \n",
       "2        5.0  New customer       8.205556  Low spender   \n",
       "3        5.0  New customer       8.205556  Low spender   \n",
       "4        5.0  New customer       8.205556  Low spender   \n",
       "\n",
       "   median_days_btw_orders customer_frequency gender     state  age  \\\n",
       "0                    17.0   Regular customer   Male  Arkansas   31   \n",
       "1                    17.0   Regular customer   Male  Arkansas   31   \n",
       "2                    17.0   Regular customer   Male  Arkansas   31   \n",
       "3                    17.0   Regular customer   Male  Arkansas   31   \n",
       "4                    17.0   Regular customer   Male  Arkansas   31   \n",
       "\n",
       "  date_joined  n_dependants family_status  income _merge region  \\\n",
       "0   9/21/2017             3       married   45435   both  South   \n",
       "1   9/21/2017             3       married   45435   both  South   \n",
       "2   9/21/2017             3       married   45435   both  South   \n",
       "3   9/21/2017             3       married   45435   both  South   \n",
       "4   9/21/2017             3       married   45435   both  South   \n",
       "\n",
       "  customer_activity         profile_y  \n",
       "0   Active customer  Young alcoholics  \n",
       "1   Active customer  Young alcoholics  \n",
       "2   Active customer  Young alcoholics  \n",
       "3   Active customer  Young alcoholics  \n",
       "4   Active customer  Young alcoholics  "
      ]
     },
     "execution_count": 31,
     "metadata": {},
     "output_type": "execute_result"
    }
   ],
   "source": [
    "insta_profile_fixed.head()"
   ]
  },
  {
   "cell_type": "code",
   "execution_count": 33,
   "id": "518b0a55",
   "metadata": {},
   "outputs": [],
   "source": [
    "insta_profile_fixed.rename(columns = {'profile_y' : 'profile'}, inplace = True)"
   ]
  },
  {
   "cell_type": "code",
   "execution_count": 34,
   "id": "d8c9cc8e",
   "metadata": {},
   "outputs": [
    {
     "data": {
      "text/html": [
       "<div>\n",
       "<style scoped>\n",
       "    .dataframe tbody tr th:only-of-type {\n",
       "        vertical-align: middle;\n",
       "    }\n",
       "\n",
       "    .dataframe tbody tr th {\n",
       "        vertical-align: top;\n",
       "    }\n",
       "\n",
       "    .dataframe thead th {\n",
       "        text-align: right;\n",
       "    }\n",
       "</style>\n",
       "<table border=\"1\" class=\"dataframe\">\n",
       "  <thead>\n",
       "    <tr style=\"text-align: right;\">\n",
       "      <th></th>\n",
       "      <th>order_id</th>\n",
       "      <th>user_id</th>\n",
       "      <th>order_number</th>\n",
       "      <th>orders_day_of_week</th>\n",
       "      <th>order_hour_of_day</th>\n",
       "      <th>days_since_prior_order</th>\n",
       "      <th>product_id</th>\n",
       "      <th>add_to_cart_order</th>\n",
       "      <th>reordered</th>\n",
       "      <th>product_name</th>\n",
       "      <th>aisle_id</th>\n",
       "      <th>department_id</th>\n",
       "      <th>prices</th>\n",
       "      <th>first_merge</th>\n",
       "      <th>price_range</th>\n",
       "      <th>busiest_slowest</th>\n",
       "      <th>busy_hours</th>\n",
       "      <th>max_order</th>\n",
       "      <th>loyalty_flag</th>\n",
       "      <th>mean_spending</th>\n",
       "      <th>spender_type</th>\n",
       "      <th>median_days_btw_orders</th>\n",
       "      <th>customer_frequency</th>\n",
       "      <th>gender</th>\n",
       "      <th>state</th>\n",
       "      <th>age</th>\n",
       "      <th>date_joined</th>\n",
       "      <th>n_dependants</th>\n",
       "      <th>family_status</th>\n",
       "      <th>income</th>\n",
       "      <th>_merge</th>\n",
       "      <th>region</th>\n",
       "      <th>customer_activity</th>\n",
       "      <th>profile</th>\n",
       "    </tr>\n",
       "  </thead>\n",
       "  <tbody>\n",
       "    <tr>\n",
       "      <th>0</th>\n",
       "      <td>691089.0</td>\n",
       "      <td>4.0</td>\n",
       "      <td>3.0</td>\n",
       "      <td>4.0</td>\n",
       "      <td>15.0</td>\n",
       "      <td>21.0</td>\n",
       "      <td>1200</td>\n",
       "      <td>1.0</td>\n",
       "      <td>0.0</td>\n",
       "      <td>Vegetable Classics Vegetable Soup</td>\n",
       "      <td>69.0</td>\n",
       "      <td>15.0</td>\n",
       "      <td>10.0</td>\n",
       "      <td>both</td>\n",
       "      <td>Mid-range product</td>\n",
       "      <td>Slowest</td>\n",
       "      <td>Most orders</td>\n",
       "      <td>5.0</td>\n",
       "      <td>New customer</td>\n",
       "      <td>8.205556</td>\n",
       "      <td>Low spender</td>\n",
       "      <td>17.0</td>\n",
       "      <td>Regular customer</td>\n",
       "      <td>Male</td>\n",
       "      <td>Arkansas</td>\n",
       "      <td>31</td>\n",
       "      <td>9/21/2017</td>\n",
       "      <td>3</td>\n",
       "      <td>married</td>\n",
       "      <td>45435</td>\n",
       "      <td>both</td>\n",
       "      <td>South</td>\n",
       "      <td>Active customer</td>\n",
       "      <td>Young alcoholics</td>\n",
       "    </tr>\n",
       "    <tr>\n",
       "      <th>1</th>\n",
       "      <td>3343014.0</td>\n",
       "      <td>4.0</td>\n",
       "      <td>1.0</td>\n",
       "      <td>6.0</td>\n",
       "      <td>11.0</td>\n",
       "      <td>0.0</td>\n",
       "      <td>2707</td>\n",
       "      <td>4.0</td>\n",
       "      <td>0.0</td>\n",
       "      <td>Complete™ ActionPacs™ Fresh Scent Dishwasher D...</td>\n",
       "      <td>74.0</td>\n",
       "      <td>17.0</td>\n",
       "      <td>11.9</td>\n",
       "      <td>both</td>\n",
       "      <td>Mid-range product</td>\n",
       "      <td>Regular</td>\n",
       "      <td>Most orders</td>\n",
       "      <td>5.0</td>\n",
       "      <td>New customer</td>\n",
       "      <td>8.205556</td>\n",
       "      <td>Low spender</td>\n",
       "      <td>17.0</td>\n",
       "      <td>Regular customer</td>\n",
       "      <td>Male</td>\n",
       "      <td>Arkansas</td>\n",
       "      <td>31</td>\n",
       "      <td>9/21/2017</td>\n",
       "      <td>3</td>\n",
       "      <td>married</td>\n",
       "      <td>45435</td>\n",
       "      <td>both</td>\n",
       "      <td>South</td>\n",
       "      <td>Active customer</td>\n",
       "      <td>Young alcoholics</td>\n",
       "    </tr>\n",
       "    <tr>\n",
       "      <th>2</th>\n",
       "      <td>3343014.0</td>\n",
       "      <td>4.0</td>\n",
       "      <td>1.0</td>\n",
       "      <td>6.0</td>\n",
       "      <td>11.0</td>\n",
       "      <td>0.0</td>\n",
       "      <td>35469</td>\n",
       "      <td>3.0</td>\n",
       "      <td>0.0</td>\n",
       "      <td>Enchilada Black Bean Vegetable</td>\n",
       "      <td>38.0</td>\n",
       "      <td>1.0</td>\n",
       "      <td>12.9</td>\n",
       "      <td>both</td>\n",
       "      <td>Mid-range product</td>\n",
       "      <td>Regular</td>\n",
       "      <td>Most orders</td>\n",
       "      <td>5.0</td>\n",
       "      <td>New customer</td>\n",
       "      <td>8.205556</td>\n",
       "      <td>Low spender</td>\n",
       "      <td>17.0</td>\n",
       "      <td>Regular customer</td>\n",
       "      <td>Male</td>\n",
       "      <td>Arkansas</td>\n",
       "      <td>31</td>\n",
       "      <td>9/21/2017</td>\n",
       "      <td>3</td>\n",
       "      <td>married</td>\n",
       "      <td>45435</td>\n",
       "      <td>both</td>\n",
       "      <td>South</td>\n",
       "      <td>Active customer</td>\n",
       "      <td>Young alcoholics</td>\n",
       "    </tr>\n",
       "    <tr>\n",
       "      <th>3</th>\n",
       "      <td>691089.0</td>\n",
       "      <td>4.0</td>\n",
       "      <td>3.0</td>\n",
       "      <td>4.0</td>\n",
       "      <td>15.0</td>\n",
       "      <td>21.0</td>\n",
       "      <td>35469</td>\n",
       "      <td>6.0</td>\n",
       "      <td>1.0</td>\n",
       "      <td>Enchilada Black Bean Vegetable</td>\n",
       "      <td>38.0</td>\n",
       "      <td>1.0</td>\n",
       "      <td>12.9</td>\n",
       "      <td>both</td>\n",
       "      <td>Mid-range product</td>\n",
       "      <td>Slowest</td>\n",
       "      <td>Most orders</td>\n",
       "      <td>5.0</td>\n",
       "      <td>New customer</td>\n",
       "      <td>8.205556</td>\n",
       "      <td>Low spender</td>\n",
       "      <td>17.0</td>\n",
       "      <td>Regular customer</td>\n",
       "      <td>Male</td>\n",
       "      <td>Arkansas</td>\n",
       "      <td>31</td>\n",
       "      <td>9/21/2017</td>\n",
       "      <td>3</td>\n",
       "      <td>married</td>\n",
       "      <td>45435</td>\n",
       "      <td>both</td>\n",
       "      <td>South</td>\n",
       "      <td>Active customer</td>\n",
       "      <td>Young alcoholics</td>\n",
       "    </tr>\n",
       "    <tr>\n",
       "      <th>4</th>\n",
       "      <td>3343014.0</td>\n",
       "      <td>4.0</td>\n",
       "      <td>1.0</td>\n",
       "      <td>6.0</td>\n",
       "      <td>11.0</td>\n",
       "      <td>0.0</td>\n",
       "      <td>36606</td>\n",
       "      <td>1.0</td>\n",
       "      <td>0.0</td>\n",
       "      <td>Sprouted Multi-Grain Bread</td>\n",
       "      <td>112.0</td>\n",
       "      <td>3.0</td>\n",
       "      <td>9.4</td>\n",
       "      <td>both</td>\n",
       "      <td>Mid-range product</td>\n",
       "      <td>Regular</td>\n",
       "      <td>Most orders</td>\n",
       "      <td>5.0</td>\n",
       "      <td>New customer</td>\n",
       "      <td>8.205556</td>\n",
       "      <td>Low spender</td>\n",
       "      <td>17.0</td>\n",
       "      <td>Regular customer</td>\n",
       "      <td>Male</td>\n",
       "      <td>Arkansas</td>\n",
       "      <td>31</td>\n",
       "      <td>9/21/2017</td>\n",
       "      <td>3</td>\n",
       "      <td>married</td>\n",
       "      <td>45435</td>\n",
       "      <td>both</td>\n",
       "      <td>South</td>\n",
       "      <td>Active customer</td>\n",
       "      <td>Young alcoholics</td>\n",
       "    </tr>\n",
       "  </tbody>\n",
       "</table>\n",
       "</div>"
      ],
      "text/plain": [
       "    order_id  user_id  order_number  orders_day_of_week  order_hour_of_day  \\\n",
       "0   691089.0      4.0           3.0                 4.0               15.0   \n",
       "1  3343014.0      4.0           1.0                 6.0               11.0   \n",
       "2  3343014.0      4.0           1.0                 6.0               11.0   \n",
       "3   691089.0      4.0           3.0                 4.0               15.0   \n",
       "4  3343014.0      4.0           1.0                 6.0               11.0   \n",
       "\n",
       "   days_since_prior_order  product_id  add_to_cart_order  reordered  \\\n",
       "0                    21.0        1200                1.0        0.0   \n",
       "1                     0.0        2707                4.0        0.0   \n",
       "2                     0.0       35469                3.0        0.0   \n",
       "3                    21.0       35469                6.0        1.0   \n",
       "4                     0.0       36606                1.0        0.0   \n",
       "\n",
       "                                        product_name  aisle_id  department_id  \\\n",
       "0                  Vegetable Classics Vegetable Soup      69.0           15.0   \n",
       "1  Complete™ ActionPacs™ Fresh Scent Dishwasher D...      74.0           17.0   \n",
       "2                     Enchilada Black Bean Vegetable      38.0            1.0   \n",
       "3                     Enchilada Black Bean Vegetable      38.0            1.0   \n",
       "4                         Sprouted Multi-Grain Bread     112.0            3.0   \n",
       "\n",
       "   prices first_merge        price_range busiest_slowest   busy_hours  \\\n",
       "0    10.0        both  Mid-range product         Slowest  Most orders   \n",
       "1    11.9        both  Mid-range product         Regular  Most orders   \n",
       "2    12.9        both  Mid-range product         Regular  Most orders   \n",
       "3    12.9        both  Mid-range product         Slowest  Most orders   \n",
       "4     9.4        both  Mid-range product         Regular  Most orders   \n",
       "\n",
       "   max_order  loyalty_flag  mean_spending spender_type  \\\n",
       "0        5.0  New customer       8.205556  Low spender   \n",
       "1        5.0  New customer       8.205556  Low spender   \n",
       "2        5.0  New customer       8.205556  Low spender   \n",
       "3        5.0  New customer       8.205556  Low spender   \n",
       "4        5.0  New customer       8.205556  Low spender   \n",
       "\n",
       "   median_days_btw_orders customer_frequency gender     state  age  \\\n",
       "0                    17.0   Regular customer   Male  Arkansas   31   \n",
       "1                    17.0   Regular customer   Male  Arkansas   31   \n",
       "2                    17.0   Regular customer   Male  Arkansas   31   \n",
       "3                    17.0   Regular customer   Male  Arkansas   31   \n",
       "4                    17.0   Regular customer   Male  Arkansas   31   \n",
       "\n",
       "  date_joined  n_dependants family_status  income _merge region  \\\n",
       "0   9/21/2017             3       married   45435   both  South   \n",
       "1   9/21/2017             3       married   45435   both  South   \n",
       "2   9/21/2017             3       married   45435   both  South   \n",
       "3   9/21/2017             3       married   45435   both  South   \n",
       "4   9/21/2017             3       married   45435   both  South   \n",
       "\n",
       "  customer_activity           profile  \n",
       "0   Active customer  Young alcoholics  \n",
       "1   Active customer  Young alcoholics  \n",
       "2   Active customer  Young alcoholics  \n",
       "3   Active customer  Young alcoholics  \n",
       "4   Active customer  Young alcoholics  "
      ]
     },
     "execution_count": 34,
     "metadata": {},
     "output_type": "execute_result"
    }
   ],
   "source": [
    "insta_profile_fixed.head()"
   ]
  },
  {
   "cell_type": "code",
   "execution_count": 36,
   "id": "698c2f77",
   "metadata": {},
   "outputs": [
    {
     "data": {
      "text/html": [
       "<div>\n",
       "<style scoped>\n",
       "    .dataframe tbody tr th:only-of-type {\n",
       "        vertical-align: middle;\n",
       "    }\n",
       "\n",
       "    .dataframe tbody tr th {\n",
       "        vertical-align: top;\n",
       "    }\n",
       "\n",
       "    .dataframe thead tr th {\n",
       "        text-align: left;\n",
       "    }\n",
       "\n",
       "    .dataframe thead tr:last-of-type th {\n",
       "        text-align: right;\n",
       "    }\n",
       "</style>\n",
       "<table border=\"1\" class=\"dataframe\">\n",
       "  <thead>\n",
       "    <tr>\n",
       "      <th></th>\n",
       "      <th colspan=\"3\" halign=\"left\">median_days_btw_orders</th>\n",
       "    </tr>\n",
       "    <tr>\n",
       "      <th></th>\n",
       "      <th>mean</th>\n",
       "      <th>min</th>\n",
       "      <th>max</th>\n",
       "    </tr>\n",
       "    <tr>\n",
       "      <th>profile</th>\n",
       "      <th></th>\n",
       "      <th></th>\n",
       "      <th></th>\n",
       "    </tr>\n",
       "  </thead>\n",
       "  <tbody>\n",
       "    <tr>\n",
       "      <th>Old married men with kids</th>\n",
       "      <td>9.398556</td>\n",
       "      <td>0.0</td>\n",
       "      <td>30.0</td>\n",
       "    </tr>\n",
       "    <tr>\n",
       "      <th>Rich cat ladies</th>\n",
       "      <td>8.603597</td>\n",
       "      <td>0.0</td>\n",
       "      <td>30.0</td>\n",
       "    </tr>\n",
       "    <tr>\n",
       "      <th>Young alcoholics</th>\n",
       "      <td>9.062512</td>\n",
       "      <td>0.0</td>\n",
       "      <td>30.0</td>\n",
       "    </tr>\n",
       "  </tbody>\n",
       "</table>\n",
       "</div>"
      ],
      "text/plain": [
       "                          median_days_btw_orders           \n",
       "                                            mean  min   max\n",
       "profile                                                    \n",
       "Old married men with kids               9.398556  0.0  30.0\n",
       "Rich cat ladies                         8.603597  0.0  30.0\n",
       "Young alcoholics                        9.062512  0.0  30.0"
      ]
     },
     "execution_count": 36,
     "metadata": {},
     "output_type": "execute_result"
    }
   ],
   "source": [
    "##Creating descriptive statistics for each profile on order frequency\n",
    "insta_profile_fixed.groupby('profile').agg({'median_days_btw_orders': ['mean', 'min', 'max']})"
   ]
  },
  {
   "cell_type": "code",
   "execution_count": 37,
   "id": "93a59f2a",
   "metadata": {},
   "outputs": [
    {
     "data": {
      "text/html": [
       "<div>\n",
       "<style scoped>\n",
       "    .dataframe tbody tr th:only-of-type {\n",
       "        vertical-align: middle;\n",
       "    }\n",
       "\n",
       "    .dataframe tbody tr th {\n",
       "        vertical-align: top;\n",
       "    }\n",
       "\n",
       "    .dataframe thead tr th {\n",
       "        text-align: left;\n",
       "    }\n",
       "\n",
       "    .dataframe thead tr:last-of-type th {\n",
       "        text-align: right;\n",
       "    }\n",
       "</style>\n",
       "<table border=\"1\" class=\"dataframe\">\n",
       "  <thead>\n",
       "    <tr>\n",
       "      <th></th>\n",
       "      <th colspan=\"3\" halign=\"left\">max_order</th>\n",
       "    </tr>\n",
       "    <tr>\n",
       "      <th></th>\n",
       "      <th>mean</th>\n",
       "      <th>min</th>\n",
       "      <th>max</th>\n",
       "    </tr>\n",
       "    <tr>\n",
       "      <th>profile</th>\n",
       "      <th></th>\n",
       "      <th></th>\n",
       "      <th></th>\n",
       "    </tr>\n",
       "  </thead>\n",
       "  <tbody>\n",
       "    <tr>\n",
       "      <th>Old married men with kids</th>\n",
       "      <td>33.915371</td>\n",
       "      <td>5.0</td>\n",
       "      <td>99.0</td>\n",
       "    </tr>\n",
       "    <tr>\n",
       "      <th>Rich cat ladies</th>\n",
       "      <td>38.670521</td>\n",
       "      <td>5.0</td>\n",
       "      <td>99.0</td>\n",
       "    </tr>\n",
       "    <tr>\n",
       "      <th>Young alcoholics</th>\n",
       "      <td>33.007626</td>\n",
       "      <td>5.0</td>\n",
       "      <td>99.0</td>\n",
       "    </tr>\n",
       "  </tbody>\n",
       "</table>\n",
       "</div>"
      ],
      "text/plain": [
       "                           max_order           \n",
       "                                mean  min   max\n",
       "profile                                        \n",
       "Old married men with kids  33.915371  5.0  99.0\n",
       "Rich cat ladies            38.670521  5.0  99.0\n",
       "Young alcoholics           33.007626  5.0  99.0"
      ]
     },
     "execution_count": 37,
     "metadata": {},
     "output_type": "execute_result"
    }
   ],
   "source": [
    "##Creating descriptive statistics for each profile on total number of orders\n",
    "insta_profile_fixed.groupby('profile').agg({'max_order': ['mean', 'min', 'max']})"
   ]
  },
  {
   "cell_type": "code",
   "execution_count": 38,
   "id": "cf05c3bc",
   "metadata": {},
   "outputs": [
    {
     "data": {
      "text/html": [
       "<div>\n",
       "<style scoped>\n",
       "    .dataframe tbody tr th:only-of-type {\n",
       "        vertical-align: middle;\n",
       "    }\n",
       "\n",
       "    .dataframe tbody tr th {\n",
       "        vertical-align: top;\n",
       "    }\n",
       "\n",
       "    .dataframe thead tr th {\n",
       "        text-align: left;\n",
       "    }\n",
       "\n",
       "    .dataframe thead tr:last-of-type th {\n",
       "        text-align: right;\n",
       "    }\n",
       "</style>\n",
       "<table border=\"1\" class=\"dataframe\">\n",
       "  <thead>\n",
       "    <tr>\n",
       "      <th></th>\n",
       "      <th colspan=\"3\" halign=\"left\">prices</th>\n",
       "    </tr>\n",
       "    <tr>\n",
       "      <th></th>\n",
       "      <th>mean</th>\n",
       "      <th>min</th>\n",
       "      <th>max</th>\n",
       "    </tr>\n",
       "    <tr>\n",
       "      <th>profile</th>\n",
       "      <th></th>\n",
       "      <th></th>\n",
       "      <th></th>\n",
       "    </tr>\n",
       "  </thead>\n",
       "  <tbody>\n",
       "    <tr>\n",
       "      <th>Old married men with kids</th>\n",
       "      <td>7.792085</td>\n",
       "      <td>1.0</td>\n",
       "      <td>25.0</td>\n",
       "    </tr>\n",
       "    <tr>\n",
       "      <th>Rich cat ladies</th>\n",
       "      <td>7.871200</td>\n",
       "      <td>1.0</td>\n",
       "      <td>25.0</td>\n",
       "    </tr>\n",
       "    <tr>\n",
       "      <th>Young alcoholics</th>\n",
       "      <td>7.753587</td>\n",
       "      <td>1.0</td>\n",
       "      <td>25.0</td>\n",
       "    </tr>\n",
       "  </tbody>\n",
       "</table>\n",
       "</div>"
      ],
      "text/plain": [
       "                             prices           \n",
       "                               mean  min   max\n",
       "profile                                       \n",
       "Old married men with kids  7.792085  1.0  25.0\n",
       "Rich cat ladies            7.871200  1.0  25.0\n",
       "Young alcoholics           7.753587  1.0  25.0"
      ]
     },
     "execution_count": 38,
     "metadata": {},
     "output_type": "execute_result"
    }
   ],
   "source": [
    "##Creating descriptive statistics for each profile on expenditure\n",
    "insta_profile_fixed.groupby('profile').agg({'prices': ['mean', 'min', 'max']})"
   ]
  },
  {
   "cell_type": "code",
   "execution_count": 47,
   "id": "0cb347a4",
   "metadata": {},
   "outputs": [],
   "source": [
    "profile_order_freq=insta_profile_fixed.groupby('profile').agg({'median_days_btw_orders': ['mean', 'min', 'max']})"
   ]
  },
  {
   "cell_type": "code",
   "execution_count": 48,
   "id": "4d67bcb3",
   "metadata": {},
   "outputs": [],
   "source": [
    "profile_order_freq.to_clipboard()"
   ]
  },
  {
   "cell_type": "code",
   "execution_count": 49,
   "id": "f11c49ff",
   "metadata": {},
   "outputs": [],
   "source": [
    "profile_total_orders=insta_profile_fixed.groupby('profile').agg({'max_order': ['mean', 'min', 'max']})"
   ]
  },
  {
   "cell_type": "code",
   "execution_count": 50,
   "id": "2a4d4f6f",
   "metadata": {},
   "outputs": [],
   "source": [
    "profile_total_orders.to_clipboard()"
   ]
  },
  {
   "cell_type": "code",
   "execution_count": 51,
   "id": "3712ed76",
   "metadata": {},
   "outputs": [],
   "source": [
    "profile_expend=insta_profile_fixed.groupby('profile').agg({'prices': ['mean', 'min', 'max']})"
   ]
  },
  {
   "cell_type": "code",
   "execution_count": 52,
   "id": "6d63b544",
   "metadata": {},
   "outputs": [],
   "source": [
    "profile_expend.to_clipboard()"
   ]
  },
  {
   "cell_type": "code",
   "execution_count": 53,
   "id": "006b2fc2",
   "metadata": {},
   "outputs": [],
   "source": [
    "profile_region_crosstab = pd.crosstab(insta_profile_fixed['region'], insta_profile_fixed['profile'], dropna = False)"
   ]
  },
  {
   "cell_type": "code",
   "execution_count": 54,
   "id": "c352ef75",
   "metadata": {},
   "outputs": [
    {
     "data": {
      "text/html": [
       "<div>\n",
       "<style scoped>\n",
       "    .dataframe tbody tr th:only-of-type {\n",
       "        vertical-align: middle;\n",
       "    }\n",
       "\n",
       "    .dataframe tbody tr th {\n",
       "        vertical-align: top;\n",
       "    }\n",
       "\n",
       "    .dataframe thead th {\n",
       "        text-align: right;\n",
       "    }\n",
       "</style>\n",
       "<table border=\"1\" class=\"dataframe\">\n",
       "  <thead>\n",
       "    <tr style=\"text-align: right;\">\n",
       "      <th>profile</th>\n",
       "      <th>Old married men with kids</th>\n",
       "      <th>Rich cat ladies</th>\n",
       "      <th>Young alcoholics</th>\n",
       "    </tr>\n",
       "    <tr>\n",
       "      <th>region</th>\n",
       "      <th></th>\n",
       "      <th></th>\n",
       "      <th></th>\n",
       "    </tr>\n",
       "  </thead>\n",
       "  <tbody>\n",
       "    <tr>\n",
       "      <th>Midwest</th>\n",
       "      <td>1297466</td>\n",
       "      <td>49517</td>\n",
       "      <td>118684</td>\n",
       "    </tr>\n",
       "    <tr>\n",
       "      <th>Northeast</th>\n",
       "      <td>1046609</td>\n",
       "      <td>36237</td>\n",
       "      <td>89468</td>\n",
       "    </tr>\n",
       "    <tr>\n",
       "      <th>South</th>\n",
       "      <td>1863689</td>\n",
       "      <td>75147</td>\n",
       "      <td>174210</td>\n",
       "    </tr>\n",
       "    <tr>\n",
       "      <th>West</th>\n",
       "      <td>1411240</td>\n",
       "      <td>44824</td>\n",
       "      <td>137445</td>\n",
       "    </tr>\n",
       "  </tbody>\n",
       "</table>\n",
       "</div>"
      ],
      "text/plain": [
       "profile    Old married men with kids  Rich cat ladies  Young alcoholics\n",
       "region                                                                 \n",
       "Midwest                      1297466            49517            118684\n",
       "Northeast                    1046609            36237             89468\n",
       "South                        1863689            75147            174210\n",
       "West                         1411240            44824            137445"
      ]
     },
     "execution_count": 54,
     "metadata": {},
     "output_type": "execute_result"
    }
   ],
   "source": [
    "profile_region_crosstab"
   ]
  },
  {
   "cell_type": "code",
   "execution_count": 55,
   "id": "48a27dd4",
   "metadata": {},
   "outputs": [],
   "source": [
    "profile_region_crosstab.to_clipboard()"
   ]
  },
  {
   "cell_type": "code",
   "execution_count": 56,
   "id": "92fd174e",
   "metadata": {},
   "outputs": [],
   "source": [
    "profile_dept_crosstab=pd.crosstab(insta_profile_fixed['department_id'], insta_profile_fixed['profile'], dropna = False)"
   ]
  },
  {
   "cell_type": "code",
   "execution_count": 57,
   "id": "53fba75b",
   "metadata": {},
   "outputs": [
    {
     "data": {
      "text/html": [
       "<div>\n",
       "<style scoped>\n",
       "    .dataframe tbody tr th:only-of-type {\n",
       "        vertical-align: middle;\n",
       "    }\n",
       "\n",
       "    .dataframe tbody tr th {\n",
       "        vertical-align: top;\n",
       "    }\n",
       "\n",
       "    .dataframe thead th {\n",
       "        text-align: right;\n",
       "    }\n",
       "</style>\n",
       "<table border=\"1\" class=\"dataframe\">\n",
       "  <thead>\n",
       "    <tr style=\"text-align: right;\">\n",
       "      <th>profile</th>\n",
       "      <th>Old married men with kids</th>\n",
       "      <th>Rich cat ladies</th>\n",
       "      <th>Young alcoholics</th>\n",
       "    </tr>\n",
       "    <tr>\n",
       "      <th>department_id</th>\n",
       "      <th></th>\n",
       "      <th></th>\n",
       "      <th></th>\n",
       "    </tr>\n",
       "  </thead>\n",
       "  <tbody>\n",
       "    <tr>\n",
       "      <th>1.0</th>\n",
       "      <td>385547</td>\n",
       "      <td>16363</td>\n",
       "      <td>34481</td>\n",
       "    </tr>\n",
       "    <tr>\n",
       "      <th>2.0</th>\n",
       "      <td>6167</td>\n",
       "      <td>302</td>\n",
       "      <td>1609</td>\n",
       "    </tr>\n",
       "    <tr>\n",
       "      <th>3.0</th>\n",
       "      <td>201217</td>\n",
       "      <td>8116</td>\n",
       "      <td>24093</td>\n",
       "    </tr>\n",
       "    <tr>\n",
       "      <th>4.0</th>\n",
       "      <td>1652231</td>\n",
       "      <td>47425</td>\n",
       "      <td>92759</td>\n",
       "    </tr>\n",
       "    <tr>\n",
       "      <th>5.0</th>\n",
       "      <td>23419</td>\n",
       "      <td>1556</td>\n",
       "      <td>33263</td>\n",
       "    </tr>\n",
       "    <tr>\n",
       "      <th>6.0</th>\n",
       "      <td>46661</td>\n",
       "      <td>1862</td>\n",
       "      <td>4998</td>\n",
       "    </tr>\n",
       "    <tr>\n",
       "      <th>7.0</th>\n",
       "      <td>471537</td>\n",
       "      <td>19048</td>\n",
       "      <td>56152</td>\n",
       "    </tr>\n",
       "    <tr>\n",
       "      <th>8.0</th>\n",
       "      <td>17443</td>\n",
       "      <td>5235</td>\n",
       "      <td>3836</td>\n",
       "    </tr>\n",
       "    <tr>\n",
       "      <th>9.0</th>\n",
       "      <td>149383</td>\n",
       "      <td>6152</td>\n",
       "      <td>14166</td>\n",
       "    </tr>\n",
       "    <tr>\n",
       "      <th>10.0</th>\n",
       "      <td>6038</td>\n",
       "      <td>93</td>\n",
       "      <td>157</td>\n",
       "    </tr>\n",
       "    <tr>\n",
       "      <th>11.0</th>\n",
       "      <td>77279</td>\n",
       "      <td>4287</td>\n",
       "      <td>8865</td>\n",
       "    </tr>\n",
       "    <tr>\n",
       "      <th>12.0</th>\n",
       "      <td>123585</td>\n",
       "      <td>5074</td>\n",
       "      <td>11365</td>\n",
       "    </tr>\n",
       "    <tr>\n",
       "      <th>13.0</th>\n",
       "      <td>324085</td>\n",
       "      <td>12781</td>\n",
       "      <td>34335</td>\n",
       "    </tr>\n",
       "    <tr>\n",
       "      <th>14.0</th>\n",
       "      <td>119663</td>\n",
       "      <td>4275</td>\n",
       "      <td>12179</td>\n",
       "    </tr>\n",
       "    <tr>\n",
       "      <th>15.0</th>\n",
       "      <td>185051</td>\n",
       "      <td>7250</td>\n",
       "      <td>17423</td>\n",
       "    </tr>\n",
       "    <tr>\n",
       "      <th>16.0</th>\n",
       "      <td>929374</td>\n",
       "      <td>30768</td>\n",
       "      <td>79531</td>\n",
       "    </tr>\n",
       "    <tr>\n",
       "      <th>17.0</th>\n",
       "      <td>128095</td>\n",
       "      <td>7852</td>\n",
       "      <td>22152</td>\n",
       "    </tr>\n",
       "    <tr>\n",
       "      <th>18.0</th>\n",
       "      <td>74736</td>\n",
       "      <td>2510</td>\n",
       "      <td>3738</td>\n",
       "    </tr>\n",
       "    <tr>\n",
       "      <th>19.0</th>\n",
       "      <td>499557</td>\n",
       "      <td>17553</td>\n",
       "      <td>50063</td>\n",
       "    </tr>\n",
       "    <tr>\n",
       "      <th>20.0</th>\n",
       "      <td>180649</td>\n",
       "      <td>6672</td>\n",
       "      <td>13687</td>\n",
       "    </tr>\n",
       "    <tr>\n",
       "      <th>21.0</th>\n",
       "      <td>12038</td>\n",
       "      <td>376</td>\n",
       "      <td>605</td>\n",
       "    </tr>\n",
       "  </tbody>\n",
       "</table>\n",
       "</div>"
      ],
      "text/plain": [
       "profile        Old married men with kids  Rich cat ladies  Young alcoholics\n",
       "department_id                                                              \n",
       "1.0                               385547            16363             34481\n",
       "2.0                                 6167              302              1609\n",
       "3.0                               201217             8116             24093\n",
       "4.0                              1652231            47425             92759\n",
       "5.0                                23419             1556             33263\n",
       "6.0                                46661             1862              4998\n",
       "7.0                               471537            19048             56152\n",
       "8.0                                17443             5235              3836\n",
       "9.0                               149383             6152             14166\n",
       "10.0                                6038               93               157\n",
       "11.0                               77279             4287              8865\n",
       "12.0                              123585             5074             11365\n",
       "13.0                              324085            12781             34335\n",
       "14.0                              119663             4275             12179\n",
       "15.0                              185051             7250             17423\n",
       "16.0                              929374            30768             79531\n",
       "17.0                              128095             7852             22152\n",
       "18.0                               74736             2510              3738\n",
       "19.0                              499557            17553             50063\n",
       "20.0                              180649             6672             13687\n",
       "21.0                               12038              376               605"
      ]
     },
     "execution_count": 57,
     "metadata": {},
     "output_type": "execute_result"
    }
   ],
   "source": [
    "profile_dept_crosstab"
   ]
  },
  {
   "cell_type": "code",
   "execution_count": 58,
   "id": "2d22471c",
   "metadata": {},
   "outputs": [],
   "source": [
    "profile_dept_crosstab.to_clipboard()"
   ]
  },
  {
   "cell_type": "code",
   "execution_count": 59,
   "id": "260b5d58",
   "metadata": {},
   "outputs": [],
   "source": [
    "insta_profile_fixed.to_pickle(os.path.join(path, '02 Data','Prepared Data', 'customer_profiles_fixed.pkl'))"
   ]
  },
  {
   "cell_type": "code",
   "execution_count": null,
   "id": "8484b647",
   "metadata": {},
   "outputs": [],
   "source": []
  }
 ],
 "metadata": {
  "kernelspec": {
   "display_name": "Python 3 (ipykernel)",
   "language": "python",
   "name": "python3"
  },
  "language_info": {
   "codemirror_mode": {
    "name": "ipython",
    "version": 3
   },
   "file_extension": ".py",
   "mimetype": "text/x-python",
   "name": "python",
   "nbconvert_exporter": "python",
   "pygments_lexer": "ipython3",
   "version": "3.9.7"
  }
 },
 "nbformat": 4,
 "nbformat_minor": 5
}
